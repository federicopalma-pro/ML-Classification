{
 "cells": [
  {
   "cell_type": "markdown",
   "id": "6eb65739",
   "metadata": {},
   "source": [
    "# Import libraries"
   ]
  },
  {
   "cell_type": "code",
   "execution_count": 28,
   "id": "ed302d14",
   "metadata": {},
   "outputs": [],
   "source": [
    "import pandas as pd\n",
    "import numpy as np\n",
    "import matplotlib.pyplot as plt\n",
    "import seaborn as sns\n",
    "import pickle"
   ]
  },
  {
   "cell_type": "code",
   "execution_count": 29,
   "id": "4736f008",
   "metadata": {},
   "outputs": [],
   "source": [
    "from sklearn.model_selection import train_test_split, GridSearchCV\n",
    "from sklearn.metrics import confusion_matrix, roc_curve, auc, precision_recall_curve, average_precision_score, classification_report\n",
    "from sklearn.preprocessing import StandardScaler, Normalizer, OneHotEncoder, MinMaxScaler,RobustScaler,MaxAbsScaler\n",
    "from sklearn.compose import ColumnTransformer\n",
    "from  sklearn.pipeline  import  Pipeline\n",
    "from  sklearn  import  set_config\n",
    "set_config(display='diagram')"
   ]
  },
  {
   "cell_type": "code",
   "execution_count": 30,
   "id": "1a615dd5",
   "metadata": {},
   "outputs": [],
   "source": [
    "from sklearn.linear_model import LogisticRegression"
   ]
  },
  {
   "cell_type": "markdown",
   "id": "389497c0",
   "metadata": {},
   "source": [
    "# Custom functions"
   ]
  },
  {
   "cell_type": "code",
   "execution_count": 31,
   "id": "eba22afb",
   "metadata": {},
   "outputs": [],
   "source": [
    "def dataset_parameters(df,target):\n",
    "    df_features = df.drop([target], axis=1)\n",
    "    data_type_numerical = ['int64', 'float64']\n",
    "    data_type_object = ['object', 'bool', 'category']\n",
    "    data_type_date = ['datetime64']\n",
    "    categorical_features  = list(filter(lambda x: df_features[x].dtype in data_type_object, df_features.columns))\n",
    "    numerical_features = list(filter(lambda x: df_features[x].dtype in data_type_numerical, df_features.columns))\n",
    "    date_features = list(filter(lambda x: df_features[x].dtype in data_type_date, df_features.columns))\n",
    "    all_features  = numerical_features  + categorical_features + date_features \n",
    "    return categorical_features, numerical_features, date_features, all_features,target "
   ]
  },
  {
   "cell_type": "code",
   "execution_count": 32,
   "id": "e47d9706",
   "metadata": {},
   "outputs": [],
   "source": [
    "def accuracy_performance(model, X, y):\n",
    "    accuracy = round(model.score(X,y),3)\n",
    "    return pd.DataFrame({'pipeline':[str(model)], 'accuracy':[accuracy]})"
   ]
  },
  {
   "cell_type": "code",
   "execution_count": 33,
   "id": "290a1e72",
   "metadata": {},
   "outputs": [],
   "source": [
    "def classification_analysis(df):\n",
    "    df['pipeline'] = df['pipeline'].apply(lambda x: x.split('(')[0])\n",
    "    \n",
    "    fig = plt.figure(figsize=(6, 4))\n",
    "    sns.barplot(x='pipeline', y='accuracy', data=df)\n",
    "    plt.ylim(0, 1)\n",
    "    plt.xlabel('')\n",
    "    plt.ylabel('accuracy', fontsize=10)\n",
    "    plt.xticks(rotation=60, fontsize=10)\n",
    "    plt.yticks(fontsize=10)\n",
    "    plt.grid(axis='y', linestyle='--', linewidth=0.8)\n",
    "\n",
    "    plt.show()\n",
    "    return df"
   ]
  },
  {
   "cell_type": "code",
   "execution_count": 34,
   "id": "4aafa185",
   "metadata": {},
   "outputs": [],
   "source": [
    "def classificator_performance(model, X_test, y_test, target_names):\n",
    "    y_pred = model.predict(X_test)\n",
    "    return print(classification_report(y_test, y_pred, target_names=target_names)) "
   ]
  },
  {
   "cell_type": "code",
   "execution_count": 35,
   "id": "faef74c7",
   "metadata": {},
   "outputs": [],
   "source": [
    "def classificator_analysis(model, X_test, y_test, labels_name):\n",
    "    fig, axs = plt.subplots(1, 3, figsize=(20, 5))\n",
    "    y_pred_proba = model.predict_proba(X_test)\n",
    "    y_pred = model.predict(X_test)\n",
    "    labels = list(labels_name.values())\n",
    "    swapped_dict = {v: k for k, v in labels_name.items()}\n",
    "    y_test = y_test.map(swapped_dict)\n",
    "    y_pred = pd.Series(y_pred).map(swapped_dict)\n",
    "\n",
    "    # Plot the confusion matrix\n",
    "    cm = confusion_matrix(y_test, y_pred)\n",
    "    sns.heatmap(cm, cmap='Blues', annot=True, xticklabels=labels, yticklabels=labels, ax=axs[0])\n",
    "    axs[0].set_xlabel('Predicted')\n",
    "    axs[0].set_ylabel('True')\n",
    "\n",
    "    # Plot ROC curve\n",
    "    fpr = dict()\n",
    "    tpr = dict()\n",
    "    roc_auc = dict()\n",
    "    for i in range(model.classes_.shape[0]):\n",
    "        fpr[i], tpr[i], _ = roc_curve(y_test == i, y_pred_proba[:, i])\n",
    "        roc_auc[i] = auc(fpr[i], tpr[i])\n",
    "        sns.lineplot(x=fpr[i], y=tpr[i], label='ROC curve (class {0}) (AUC = {1:0.2f})'.format(labels_name[i], roc_auc[i]), linewidth=1.5, ax=axs[1])\n",
    "    \n",
    "    axs[1].set_xlim([0.0, 1.0])\n",
    "    axs[1].set_ylim([0.0, 1.05])\n",
    "    axs[1].set_xlabel('False Positive Rate')\n",
    "    axs[1].set_ylabel('True Positive Rate')\n",
    "    axs[1].legend(loc=\"lower right\")\n",
    "\n",
    "    # Plot Precision-Recall curve\n",
    "    precision = dict()\n",
    "    recall = dict()\n",
    "    average_precision = dict()\n",
    "    for i in range(model.classes_.shape[0]):\n",
    "        precision[i], recall[i], _ = precision_recall_curve(y_test == i, y_pred_proba[:, i])\n",
    "        average_precision[i] = average_precision_score(y_test == i, y_pred_proba[:, i])\n",
    "        sns.lineplot(x=recall[i], y=precision[i], label='Precision-recall curve (class {0}) (AP = {1:0.2f})'.format(labels_name[i], average_precision[i]), linewidth=1.5, ax=axs[2])\n",
    "    \n",
    "    axs[2].set_xlim([0.0, 1.0])\n",
    "    axs[2].set_ylim([0.0, 1.05])\n",
    "    axs[2].set_xlabel('Recall')\n",
    "    axs[2].set_ylabel('Precision')\n",
    "    axs[2].legend(loc=\"lower left\")\n",
    "\n",
    "    return plt.show()"
   ]
  },
  {
   "cell_type": "markdown",
   "id": "2cc89fdb",
   "metadata": {},
   "source": [
    "# Loading data"
   ]
  },
  {
   "cell_type": "code",
   "execution_count": 36,
   "id": "a625daeb",
   "metadata": {},
   "outputs": [],
   "source": [
    "with open('penguins_species_classes.pkl', 'rb') as f:\n",
    "    target_classes = pickle.load(f)"
   ]
  },
  {
   "cell_type": "code",
   "execution_count": 37,
   "id": "ae59d7c0",
   "metadata": {},
   "outputs": [
    {
     "data": {
      "text/plain": [
       "{0: 'Adelie', 1: 'Chinstrap', 2: 'Gentoo'}"
      ]
     },
     "execution_count": 37,
     "metadata": {},
     "output_type": "execute_result"
    }
   ],
   "source": [
    "target_classes"
   ]
  },
  {
   "cell_type": "code",
   "execution_count": 38,
   "id": "b5adac42",
   "metadata": {},
   "outputs": [],
   "source": [
    "with open('penguins_df.pkl', 'rb') as f:\n",
    "    df = pickle.load(f)"
   ]
  },
  {
   "cell_type": "code",
   "execution_count": 39,
   "id": "94c38b42",
   "metadata": {},
   "outputs": [
    {
     "data": {
      "text/html": [
       "<div>\n",
       "<style scoped>\n",
       "    .dataframe tbody tr th:only-of-type {\n",
       "        vertical-align: middle;\n",
       "    }\n",
       "\n",
       "    .dataframe tbody tr th {\n",
       "        vertical-align: top;\n",
       "    }\n",
       "\n",
       "    .dataframe thead th {\n",
       "        text-align: right;\n",
       "    }\n",
       "</style>\n",
       "<table border=\"1\" class=\"dataframe\">\n",
       "  <thead>\n",
       "    <tr style=\"text-align: right;\">\n",
       "      <th></th>\n",
       "      <th>island</th>\n",
       "      <th>culmen_length_mm</th>\n",
       "      <th>culmen_depth_mm</th>\n",
       "      <th>flipper_length_mm</th>\n",
       "      <th>body_mass_g</th>\n",
       "      <th>sex</th>\n",
       "      <th>species</th>\n",
       "    </tr>\n",
       "  </thead>\n",
       "  <tbody>\n",
       "    <tr>\n",
       "      <th>0</th>\n",
       "      <td>Torgersen</td>\n",
       "      <td>39.1</td>\n",
       "      <td>18.7</td>\n",
       "      <td>181.0</td>\n",
       "      <td>3750.0</td>\n",
       "      <td>MALE</td>\n",
       "      <td>Adelie</td>\n",
       "    </tr>\n",
       "    <tr>\n",
       "      <th>1</th>\n",
       "      <td>Torgersen</td>\n",
       "      <td>39.5</td>\n",
       "      <td>17.4</td>\n",
       "      <td>186.0</td>\n",
       "      <td>3800.0</td>\n",
       "      <td>FEMALE</td>\n",
       "      <td>Adelie</td>\n",
       "    </tr>\n",
       "    <tr>\n",
       "      <th>2</th>\n",
       "      <td>Torgersen</td>\n",
       "      <td>40.3</td>\n",
       "      <td>18.0</td>\n",
       "      <td>195.0</td>\n",
       "      <td>3250.0</td>\n",
       "      <td>FEMALE</td>\n",
       "      <td>Adelie</td>\n",
       "    </tr>\n",
       "    <tr>\n",
       "      <th>3</th>\n",
       "      <td>Torgersen</td>\n",
       "      <td>36.7</td>\n",
       "      <td>19.3</td>\n",
       "      <td>193.0</td>\n",
       "      <td>3450.0</td>\n",
       "      <td>FEMALE</td>\n",
       "      <td>Adelie</td>\n",
       "    </tr>\n",
       "    <tr>\n",
       "      <th>4</th>\n",
       "      <td>Torgersen</td>\n",
       "      <td>39.3</td>\n",
       "      <td>20.6</td>\n",
       "      <td>190.0</td>\n",
       "      <td>3650.0</td>\n",
       "      <td>MALE</td>\n",
       "      <td>Adelie</td>\n",
       "    </tr>\n",
       "    <tr>\n",
       "      <th>...</th>\n",
       "      <td>...</td>\n",
       "      <td>...</td>\n",
       "      <td>...</td>\n",
       "      <td>...</td>\n",
       "      <td>...</td>\n",
       "      <td>...</td>\n",
       "      <td>...</td>\n",
       "    </tr>\n",
       "    <tr>\n",
       "      <th>328</th>\n",
       "      <td>Biscoe</td>\n",
       "      <td>47.2</td>\n",
       "      <td>13.7</td>\n",
       "      <td>214.0</td>\n",
       "      <td>4925.0</td>\n",
       "      <td>FEMALE</td>\n",
       "      <td>Gentoo</td>\n",
       "    </tr>\n",
       "    <tr>\n",
       "      <th>329</th>\n",
       "      <td>Biscoe</td>\n",
       "      <td>46.8</td>\n",
       "      <td>14.3</td>\n",
       "      <td>215.0</td>\n",
       "      <td>4850.0</td>\n",
       "      <td>FEMALE</td>\n",
       "      <td>Gentoo</td>\n",
       "    </tr>\n",
       "    <tr>\n",
       "      <th>330</th>\n",
       "      <td>Biscoe</td>\n",
       "      <td>50.4</td>\n",
       "      <td>15.7</td>\n",
       "      <td>222.0</td>\n",
       "      <td>5750.0</td>\n",
       "      <td>MALE</td>\n",
       "      <td>Gentoo</td>\n",
       "    </tr>\n",
       "    <tr>\n",
       "      <th>331</th>\n",
       "      <td>Biscoe</td>\n",
       "      <td>45.2</td>\n",
       "      <td>14.8</td>\n",
       "      <td>212.0</td>\n",
       "      <td>5200.0</td>\n",
       "      <td>FEMALE</td>\n",
       "      <td>Gentoo</td>\n",
       "    </tr>\n",
       "    <tr>\n",
       "      <th>332</th>\n",
       "      <td>Biscoe</td>\n",
       "      <td>49.9</td>\n",
       "      <td>16.1</td>\n",
       "      <td>213.0</td>\n",
       "      <td>5400.0</td>\n",
       "      <td>MALE</td>\n",
       "      <td>Gentoo</td>\n",
       "    </tr>\n",
       "  </tbody>\n",
       "</table>\n",
       "<p>333 rows × 7 columns</p>\n",
       "</div>"
      ],
      "text/plain": [
       "        island  culmen_length_mm  culmen_depth_mm  flipper_length_mm  \\\n",
       "0    Torgersen              39.1             18.7              181.0   \n",
       "1    Torgersen              39.5             17.4              186.0   \n",
       "2    Torgersen              40.3             18.0              195.0   \n",
       "3    Torgersen              36.7             19.3              193.0   \n",
       "4    Torgersen              39.3             20.6              190.0   \n",
       "..         ...               ...              ...                ...   \n",
       "328     Biscoe              47.2             13.7              214.0   \n",
       "329     Biscoe              46.8             14.3              215.0   \n",
       "330     Biscoe              50.4             15.7              222.0   \n",
       "331     Biscoe              45.2             14.8              212.0   \n",
       "332     Biscoe              49.9             16.1              213.0   \n",
       "\n",
       "     body_mass_g     sex species  \n",
       "0         3750.0    MALE  Adelie  \n",
       "1         3800.0  FEMALE  Adelie  \n",
       "2         3250.0  FEMALE  Adelie  \n",
       "3         3450.0  FEMALE  Adelie  \n",
       "4         3650.0    MALE  Adelie  \n",
       "..           ...     ...     ...  \n",
       "328       4925.0  FEMALE  Gentoo  \n",
       "329       4850.0  FEMALE  Gentoo  \n",
       "330       5750.0    MALE  Gentoo  \n",
       "331       5200.0  FEMALE  Gentoo  \n",
       "332       5400.0    MALE  Gentoo  \n",
       "\n",
       "[333 rows x 7 columns]"
      ]
     },
     "execution_count": 39,
     "metadata": {},
     "output_type": "execute_result"
    }
   ],
   "source": [
    "df"
   ]
  },
  {
   "cell_type": "code",
   "execution_count": 40,
   "id": "6b518b86",
   "metadata": {},
   "outputs": [],
   "source": [
    "categorical_features, numerical_features, date_features, all_features, target = dataset_parameters(df,'species')"
   ]
  },
  {
   "cell_type": "code",
   "execution_count": 41,
   "id": "3b07559a",
   "metadata": {},
   "outputs": [],
   "source": [
    "X = df[all_features]"
   ]
  },
  {
   "cell_type": "code",
   "execution_count": 42,
   "id": "62ca3588",
   "metadata": {},
   "outputs": [],
   "source": [
    "y = df[target]"
   ]
  },
  {
   "cell_type": "code",
   "execution_count": 43,
   "id": "4264cdc9",
   "metadata": {},
   "outputs": [],
   "source": [
    "X_train, X_test, y_train, y_test = train_test_split(X, y, test_size=0.25, random_state=13) "
   ]
  },
  {
   "cell_type": "markdown",
   "id": "99105f76",
   "metadata": {},
   "source": [
    "# Setup pipeline"
   ]
  },
  {
   "cell_type": "code",
   "execution_count": 44,
   "id": "751cc436",
   "metadata": {},
   "outputs": [],
   "source": [
    "categorical_transformer = Pipeline(steps=[\n",
    "    ('one' , OneHotEncoder())\n",
    "])"
   ]
  },
  {
   "cell_type": "code",
   "execution_count": 45,
   "id": "d80c89b2",
   "metadata": {},
   "outputs": [],
   "source": [
    "numerical_transformer = Pipeline(steps=[\n",
    "    ('scale', StandardScaler()),\n",
    "    ('normalize', Normalizer())\n",
    "])"
   ]
  },
  {
   "cell_type": "code",
   "execution_count": 46,
   "id": "7e47042c",
   "metadata": {},
   "outputs": [],
   "source": [
    "preprocessor = ColumnTransformer(transformers=[\n",
    "    ('num', numerical_transformer, numerical_features),\n",
    "    ('cat', categorical_transformer, categorical_features)\n",
    "])"
   ]
  },
  {
   "cell_type": "code",
   "execution_count": 47,
   "id": "79cd2cef",
   "metadata": {},
   "outputs": [],
   "source": [
    "pipeline = Pipeline(steps=[\n",
    "    ('preprocessor', preprocessor),\n",
    "    ('model', LogisticRegression())\n",
    "])"
   ]
  },
  {
   "cell_type": "code",
   "execution_count": 48,
   "id": "278983c0",
   "metadata": {},
   "outputs": [
    {
     "data": {
      "text/html": [
       "<style>#sk-ed434ec3-f265-44f2-9e02-ba1ba233c920 {color: black;background-color: white;}#sk-ed434ec3-f265-44f2-9e02-ba1ba233c920 pre{padding: 0;}#sk-ed434ec3-f265-44f2-9e02-ba1ba233c920 div.sk-toggleable {background-color: white;}#sk-ed434ec3-f265-44f2-9e02-ba1ba233c920 label.sk-toggleable__label {cursor: pointer;display: block;width: 100%;margin-bottom: 0;padding: 0.3em;box-sizing: border-box;text-align: center;}#sk-ed434ec3-f265-44f2-9e02-ba1ba233c920 label.sk-toggleable__label-arrow:before {content: \"▸\";float: left;margin-right: 0.25em;color: #696969;}#sk-ed434ec3-f265-44f2-9e02-ba1ba233c920 label.sk-toggleable__label-arrow:hover:before {color: black;}#sk-ed434ec3-f265-44f2-9e02-ba1ba233c920 div.sk-estimator:hover label.sk-toggleable__label-arrow:before {color: black;}#sk-ed434ec3-f265-44f2-9e02-ba1ba233c920 div.sk-toggleable__content {max-height: 0;max-width: 0;overflow: hidden;text-align: left;background-color: #f0f8ff;}#sk-ed434ec3-f265-44f2-9e02-ba1ba233c920 div.sk-toggleable__content pre {margin: 0.2em;color: black;border-radius: 0.25em;background-color: #f0f8ff;}#sk-ed434ec3-f265-44f2-9e02-ba1ba233c920 input.sk-toggleable__control:checked~div.sk-toggleable__content {max-height: 200px;max-width: 100%;overflow: auto;}#sk-ed434ec3-f265-44f2-9e02-ba1ba233c920 input.sk-toggleable__control:checked~label.sk-toggleable__label-arrow:before {content: \"▾\";}#sk-ed434ec3-f265-44f2-9e02-ba1ba233c920 div.sk-estimator input.sk-toggleable__control:checked~label.sk-toggleable__label {background-color: #d4ebff;}#sk-ed434ec3-f265-44f2-9e02-ba1ba233c920 div.sk-label input.sk-toggleable__control:checked~label.sk-toggleable__label {background-color: #d4ebff;}#sk-ed434ec3-f265-44f2-9e02-ba1ba233c920 input.sk-hidden--visually {border: 0;clip: rect(1px 1px 1px 1px);clip: rect(1px, 1px, 1px, 1px);height: 1px;margin: -1px;overflow: hidden;padding: 0;position: absolute;width: 1px;}#sk-ed434ec3-f265-44f2-9e02-ba1ba233c920 div.sk-estimator {font-family: monospace;background-color: #f0f8ff;border: 1px dotted black;border-radius: 0.25em;box-sizing: border-box;margin-bottom: 0.5em;}#sk-ed434ec3-f265-44f2-9e02-ba1ba233c920 div.sk-estimator:hover {background-color: #d4ebff;}#sk-ed434ec3-f265-44f2-9e02-ba1ba233c920 div.sk-parallel-item::after {content: \"\";width: 100%;border-bottom: 1px solid gray;flex-grow: 1;}#sk-ed434ec3-f265-44f2-9e02-ba1ba233c920 div.sk-label:hover label.sk-toggleable__label {background-color: #d4ebff;}#sk-ed434ec3-f265-44f2-9e02-ba1ba233c920 div.sk-serial::before {content: \"\";position: absolute;border-left: 1px solid gray;box-sizing: border-box;top: 2em;bottom: 0;left: 50%;}#sk-ed434ec3-f265-44f2-9e02-ba1ba233c920 div.sk-serial {display: flex;flex-direction: column;align-items: center;background-color: white;padding-right: 0.2em;padding-left: 0.2em;}#sk-ed434ec3-f265-44f2-9e02-ba1ba233c920 div.sk-item {z-index: 1;}#sk-ed434ec3-f265-44f2-9e02-ba1ba233c920 div.sk-parallel {display: flex;align-items: stretch;justify-content: center;background-color: white;}#sk-ed434ec3-f265-44f2-9e02-ba1ba233c920 div.sk-parallel::before {content: \"\";position: absolute;border-left: 1px solid gray;box-sizing: border-box;top: 2em;bottom: 0;left: 50%;}#sk-ed434ec3-f265-44f2-9e02-ba1ba233c920 div.sk-parallel-item {display: flex;flex-direction: column;position: relative;background-color: white;}#sk-ed434ec3-f265-44f2-9e02-ba1ba233c920 div.sk-parallel-item:first-child::after {align-self: flex-end;width: 50%;}#sk-ed434ec3-f265-44f2-9e02-ba1ba233c920 div.sk-parallel-item:last-child::after {align-self: flex-start;width: 50%;}#sk-ed434ec3-f265-44f2-9e02-ba1ba233c920 div.sk-parallel-item:only-child::after {width: 0;}#sk-ed434ec3-f265-44f2-9e02-ba1ba233c920 div.sk-dashed-wrapped {border: 1px dashed gray;margin: 0 0.4em 0.5em 0.4em;box-sizing: border-box;padding-bottom: 0.4em;background-color: white;position: relative;}#sk-ed434ec3-f265-44f2-9e02-ba1ba233c920 div.sk-label label {font-family: monospace;font-weight: bold;background-color: white;display: inline-block;line-height: 1.2em;}#sk-ed434ec3-f265-44f2-9e02-ba1ba233c920 div.sk-label-container {position: relative;z-index: 2;text-align: center;}#sk-ed434ec3-f265-44f2-9e02-ba1ba233c920 div.sk-container {/* jupyter's `normalize.less` sets `[hidden] { display: none; }` but bootstrap.min.css set `[hidden] { display: none !important; }` so we also need the `!important` here to be able to override the default hidden behavior on the sphinx rendered scikit-learn.org. See: https://github.com/scikit-learn/scikit-learn/issues/21755 */display: inline-block !important;position: relative;}#sk-ed434ec3-f265-44f2-9e02-ba1ba233c920 div.sk-text-repr-fallback {display: none;}</style><div id=\"sk-ed434ec3-f265-44f2-9e02-ba1ba233c920\" class=\"sk-top-container\"><div class=\"sk-text-repr-fallback\"><pre>Pipeline(steps=[(&#x27;preprocessor&#x27;,\n",
       "                 ColumnTransformer(transformers=[(&#x27;num&#x27;,\n",
       "                                                  Pipeline(steps=[(&#x27;scale&#x27;,\n",
       "                                                                   StandardScaler()),\n",
       "                                                                  (&#x27;normalize&#x27;,\n",
       "                                                                   Normalizer())]),\n",
       "                                                  [&#x27;culmen_length_mm&#x27;,\n",
       "                                                   &#x27;culmen_depth_mm&#x27;,\n",
       "                                                   &#x27;flipper_length_mm&#x27;,\n",
       "                                                   &#x27;body_mass_g&#x27;]),\n",
       "                                                 (&#x27;cat&#x27;,\n",
       "                                                  Pipeline(steps=[(&#x27;one&#x27;,\n",
       "                                                                   OneHotEncoder())]),\n",
       "                                                  [&#x27;island&#x27;, &#x27;sex&#x27;])])),\n",
       "                (&#x27;model&#x27;, LogisticRegression())])</pre><b>Please rerun this cell to show the HTML repr or trust the notebook.</b></div><div class=\"sk-container\" hidden><div class=\"sk-item sk-dashed-wrapped\"><div class=\"sk-label-container\"><div class=\"sk-label sk-toggleable\"><input class=\"sk-toggleable__control sk-hidden--visually\" id=\"053c5b32-c7db-422b-9fef-202d688cd6b8\" type=\"checkbox\" ><label for=\"053c5b32-c7db-422b-9fef-202d688cd6b8\" class=\"sk-toggleable__label sk-toggleable__label-arrow\">Pipeline</label><div class=\"sk-toggleable__content\"><pre>Pipeline(steps=[(&#x27;preprocessor&#x27;,\n",
       "                 ColumnTransformer(transformers=[(&#x27;num&#x27;,\n",
       "                                                  Pipeline(steps=[(&#x27;scale&#x27;,\n",
       "                                                                   StandardScaler()),\n",
       "                                                                  (&#x27;normalize&#x27;,\n",
       "                                                                   Normalizer())]),\n",
       "                                                  [&#x27;culmen_length_mm&#x27;,\n",
       "                                                   &#x27;culmen_depth_mm&#x27;,\n",
       "                                                   &#x27;flipper_length_mm&#x27;,\n",
       "                                                   &#x27;body_mass_g&#x27;]),\n",
       "                                                 (&#x27;cat&#x27;,\n",
       "                                                  Pipeline(steps=[(&#x27;one&#x27;,\n",
       "                                                                   OneHotEncoder())]),\n",
       "                                                  [&#x27;island&#x27;, &#x27;sex&#x27;])])),\n",
       "                (&#x27;model&#x27;, LogisticRegression())])</pre></div></div></div><div class=\"sk-serial\"><div class=\"sk-item sk-dashed-wrapped\"><div class=\"sk-label-container\"><div class=\"sk-label sk-toggleable\"><input class=\"sk-toggleable__control sk-hidden--visually\" id=\"365998ca-dc93-4e5e-8dbd-1266fa308a85\" type=\"checkbox\" ><label for=\"365998ca-dc93-4e5e-8dbd-1266fa308a85\" class=\"sk-toggleable__label sk-toggleable__label-arrow\">preprocessor: ColumnTransformer</label><div class=\"sk-toggleable__content\"><pre>ColumnTransformer(transformers=[(&#x27;num&#x27;,\n",
       "                                 Pipeline(steps=[(&#x27;scale&#x27;, StandardScaler()),\n",
       "                                                 (&#x27;normalize&#x27;, Normalizer())]),\n",
       "                                 [&#x27;culmen_length_mm&#x27;, &#x27;culmen_depth_mm&#x27;,\n",
       "                                  &#x27;flipper_length_mm&#x27;, &#x27;body_mass_g&#x27;]),\n",
       "                                (&#x27;cat&#x27;,\n",
       "                                 Pipeline(steps=[(&#x27;one&#x27;, OneHotEncoder())]),\n",
       "                                 [&#x27;island&#x27;, &#x27;sex&#x27;])])</pre></div></div></div><div class=\"sk-parallel\"><div class=\"sk-parallel-item\"><div class=\"sk-item\"><div class=\"sk-label-container\"><div class=\"sk-label sk-toggleable\"><input class=\"sk-toggleable__control sk-hidden--visually\" id=\"9bc60b17-4a0e-4d82-ad43-936b5024914f\" type=\"checkbox\" ><label for=\"9bc60b17-4a0e-4d82-ad43-936b5024914f\" class=\"sk-toggleable__label sk-toggleable__label-arrow\">num</label><div class=\"sk-toggleable__content\"><pre>[&#x27;culmen_length_mm&#x27;, &#x27;culmen_depth_mm&#x27;, &#x27;flipper_length_mm&#x27;, &#x27;body_mass_g&#x27;]</pre></div></div></div><div class=\"sk-serial\"><div class=\"sk-item\"><div class=\"sk-serial\"><div class=\"sk-item\"><div class=\"sk-estimator sk-toggleable\"><input class=\"sk-toggleable__control sk-hidden--visually\" id=\"e8f56647-0c68-42b9-85f6-f58f12d384b6\" type=\"checkbox\" ><label for=\"e8f56647-0c68-42b9-85f6-f58f12d384b6\" class=\"sk-toggleable__label sk-toggleable__label-arrow\">StandardScaler</label><div class=\"sk-toggleable__content\"><pre>StandardScaler()</pre></div></div></div><div class=\"sk-item\"><div class=\"sk-estimator sk-toggleable\"><input class=\"sk-toggleable__control sk-hidden--visually\" id=\"65f1b20c-4c52-4cf4-8b55-21c3d7dd4a25\" type=\"checkbox\" ><label for=\"65f1b20c-4c52-4cf4-8b55-21c3d7dd4a25\" class=\"sk-toggleable__label sk-toggleable__label-arrow\">Normalizer</label><div class=\"sk-toggleable__content\"><pre>Normalizer()</pre></div></div></div></div></div></div></div></div><div class=\"sk-parallel-item\"><div class=\"sk-item\"><div class=\"sk-label-container\"><div class=\"sk-label sk-toggleable\"><input class=\"sk-toggleable__control sk-hidden--visually\" id=\"dc1f50e5-136c-4615-9c6c-9e83c050bf67\" type=\"checkbox\" ><label for=\"dc1f50e5-136c-4615-9c6c-9e83c050bf67\" class=\"sk-toggleable__label sk-toggleable__label-arrow\">cat</label><div class=\"sk-toggleable__content\"><pre>[&#x27;island&#x27;, &#x27;sex&#x27;]</pre></div></div></div><div class=\"sk-serial\"><div class=\"sk-item\"><div class=\"sk-serial\"><div class=\"sk-item\"><div class=\"sk-estimator sk-toggleable\"><input class=\"sk-toggleable__control sk-hidden--visually\" id=\"67a5d722-5c83-4f22-b262-732371b714b1\" type=\"checkbox\" ><label for=\"67a5d722-5c83-4f22-b262-732371b714b1\" class=\"sk-toggleable__label sk-toggleable__label-arrow\">OneHotEncoder</label><div class=\"sk-toggleable__content\"><pre>OneHotEncoder()</pre></div></div></div></div></div></div></div></div></div></div><div class=\"sk-item\"><div class=\"sk-estimator sk-toggleable\"><input class=\"sk-toggleable__control sk-hidden--visually\" id=\"70c0a2d8-07a0-4dfa-b990-e47bc9f6e9f0\" type=\"checkbox\" ><label for=\"70c0a2d8-07a0-4dfa-b990-e47bc9f6e9f0\" class=\"sk-toggleable__label sk-toggleable__label-arrow\">LogisticRegression</label><div class=\"sk-toggleable__content\"><pre>LogisticRegression()</pre></div></div></div></div></div></div></div>"
      ],
      "text/plain": [
       "Pipeline(steps=[('preprocessor',\n",
       "                 ColumnTransformer(transformers=[('num',\n",
       "                                                  Pipeline(steps=[('scale',\n",
       "                                                                   StandardScaler()),\n",
       "                                                                  ('normalize',\n",
       "                                                                   Normalizer())]),\n",
       "                                                  ['culmen_length_mm',\n",
       "                                                   'culmen_depth_mm',\n",
       "                                                   'flipper_length_mm',\n",
       "                                                   'body_mass_g']),\n",
       "                                                 ('cat',\n",
       "                                                  Pipeline(steps=[('one',\n",
       "                                                                   OneHotEncoder())]),\n",
       "                                                  ['island', 'sex'])])),\n",
       "                ('model', LogisticRegression())])"
      ]
     },
     "execution_count": 48,
     "metadata": {},
     "output_type": "execute_result"
    }
   ],
   "source": [
    "pipeline"
   ]
  },
  {
   "cell_type": "markdown",
   "id": "587d47c1",
   "metadata": {},
   "source": [
    "# Setup and run grid search"
   ]
  },
  {
   "cell_type": "code",
   "execution_count": 49,
   "id": "52d26ad4",
   "metadata": {},
   "outputs": [],
   "source": [
    "params_space = {\n",
    "    'preprocessor__num__scale': [StandardScaler(), MaxAbsScaler(), MinMaxScaler(), RobustScaler(), 'passthrough'],\n",
    "    'preprocessor__num__normalize': [Normalizer(), 'passthrough'],\n",
    "    #'model__penalty': ['l1', 'l2', 'elasticnet', 'none'],\n",
    "    #'model__C': [0.1, 0.5, 1, 5, 10],\n",
    "    #'model__fit_intercept': [True, False],\n",
    "    'model__solver': ['newton-cg', 'lbfgs', 'liblinear', 'sag', 'saga'],\n",
    "    #'model__max_iter': [100, 200, 300],\n",
    "    #'model__tol': [1e-4, 1e-3, 1e-2, 1e-1],\n",
    "    #'model__warm_start': [True, False],\n",
    "    #'model__class_weight': [None, 'balanced']\n",
    "}"
   ]
  },
  {
   "cell_type": "code",
   "execution_count": 50,
   "id": "1d5d71b6",
   "metadata": {},
   "outputs": [],
   "source": [
    "scoring = {\n",
    "    'accuracy': 'accuracy',\n",
    "    'precision': 'precision_macro',\n",
    "    'recall': 'recall_macro',\n",
    "    'f1': 'f1_macro'\n",
    "}"
   ]
  },
  {
   "cell_type": "code",
   "execution_count": 51,
   "id": "74c0bafc",
   "metadata": {},
   "outputs": [],
   "source": [
    "grid = GridSearchCV(pipeline, param_grid=params_space, cv=5, scoring=scoring, refit=\"f1\", verbose=1)"
   ]
  },
  {
   "cell_type": "code",
   "execution_count": 25,
   "id": "e461353a",
   "metadata": {},
   "outputs": [
    {
     "name": "stdout",
     "output_type": "stream",
     "text": [
      "Fitting 5 folds for each of 10 candidates, totalling 50 fits\n"
     ]
    },
    {
     "name": "stderr",
     "output_type": "stream",
     "text": [
      "/home/chicco/anaconda3/lib/python3.9/site-packages/sklearn/linear_model/_logistic.py:814: ConvergenceWarning: lbfgs failed to converge (status=1):\n",
      "STOP: TOTAL NO. of ITERATIONS REACHED LIMIT.\n",
      "\n",
      "Increase the number of iterations (max_iter) or scale the data as shown in:\n",
      "    https://scikit-learn.org/stable/modules/preprocessing.html\n",
      "Please also refer to the documentation for alternative solver options:\n",
      "    https://scikit-learn.org/stable/modules/linear_model.html#logistic-regression\n",
      "  n_iter_i = _check_optimize_result(\n",
      "/home/chicco/anaconda3/lib/python3.9/site-packages/sklearn/linear_model/_logistic.py:814: ConvergenceWarning: lbfgs failed to converge (status=1):\n",
      "STOP: TOTAL NO. of ITERATIONS REACHED LIMIT.\n",
      "\n",
      "Increase the number of iterations (max_iter) or scale the data as shown in:\n",
      "    https://scikit-learn.org/stable/modules/preprocessing.html\n",
      "Please also refer to the documentation for alternative solver options:\n",
      "    https://scikit-learn.org/stable/modules/linear_model.html#logistic-regression\n",
      "  n_iter_i = _check_optimize_result(\n",
      "/home/chicco/anaconda3/lib/python3.9/site-packages/sklearn/linear_model/_logistic.py:814: ConvergenceWarning: lbfgs failed to converge (status=1):\n",
      "STOP: TOTAL NO. of ITERATIONS REACHED LIMIT.\n",
      "\n",
      "Increase the number of iterations (max_iter) or scale the data as shown in:\n",
      "    https://scikit-learn.org/stable/modules/preprocessing.html\n",
      "Please also refer to the documentation for alternative solver options:\n",
      "    https://scikit-learn.org/stable/modules/linear_model.html#logistic-regression\n",
      "  n_iter_i = _check_optimize_result(\n",
      "/home/chicco/anaconda3/lib/python3.9/site-packages/sklearn/linear_model/_logistic.py:814: ConvergenceWarning: lbfgs failed to converge (status=1):\n",
      "STOP: TOTAL NO. of ITERATIONS REACHED LIMIT.\n",
      "\n",
      "Increase the number of iterations (max_iter) or scale the data as shown in:\n",
      "    https://scikit-learn.org/stable/modules/preprocessing.html\n",
      "Please also refer to the documentation for alternative solver options:\n",
      "    https://scikit-learn.org/stable/modules/linear_model.html#logistic-regression\n",
      "  n_iter_i = _check_optimize_result(\n",
      "/home/chicco/anaconda3/lib/python3.9/site-packages/sklearn/linear_model/_logistic.py:814: ConvergenceWarning: lbfgs failed to converge (status=1):\n",
      "STOP: TOTAL NO. of ITERATIONS REACHED LIMIT.\n",
      "\n",
      "Increase the number of iterations (max_iter) or scale the data as shown in:\n",
      "    https://scikit-learn.org/stable/modules/preprocessing.html\n",
      "Please also refer to the documentation for alternative solver options:\n",
      "    https://scikit-learn.org/stable/modules/linear_model.html#logistic-regression\n",
      "  n_iter_i = _check_optimize_result(\n"
     ]
    },
    {
     "data": {
      "text/html": [
       "<style>#sk-75149966-e623-42f2-a23c-e6cf035f6101 {color: black;background-color: white;}#sk-75149966-e623-42f2-a23c-e6cf035f6101 pre{padding: 0;}#sk-75149966-e623-42f2-a23c-e6cf035f6101 div.sk-toggleable {background-color: white;}#sk-75149966-e623-42f2-a23c-e6cf035f6101 label.sk-toggleable__label {cursor: pointer;display: block;width: 100%;margin-bottom: 0;padding: 0.3em;box-sizing: border-box;text-align: center;}#sk-75149966-e623-42f2-a23c-e6cf035f6101 label.sk-toggleable__label-arrow:before {content: \"▸\";float: left;margin-right: 0.25em;color: #696969;}#sk-75149966-e623-42f2-a23c-e6cf035f6101 label.sk-toggleable__label-arrow:hover:before {color: black;}#sk-75149966-e623-42f2-a23c-e6cf035f6101 div.sk-estimator:hover label.sk-toggleable__label-arrow:before {color: black;}#sk-75149966-e623-42f2-a23c-e6cf035f6101 div.sk-toggleable__content {max-height: 0;max-width: 0;overflow: hidden;text-align: left;background-color: #f0f8ff;}#sk-75149966-e623-42f2-a23c-e6cf035f6101 div.sk-toggleable__content pre {margin: 0.2em;color: black;border-radius: 0.25em;background-color: #f0f8ff;}#sk-75149966-e623-42f2-a23c-e6cf035f6101 input.sk-toggleable__control:checked~div.sk-toggleable__content {max-height: 200px;max-width: 100%;overflow: auto;}#sk-75149966-e623-42f2-a23c-e6cf035f6101 input.sk-toggleable__control:checked~label.sk-toggleable__label-arrow:before {content: \"▾\";}#sk-75149966-e623-42f2-a23c-e6cf035f6101 div.sk-estimator input.sk-toggleable__control:checked~label.sk-toggleable__label {background-color: #d4ebff;}#sk-75149966-e623-42f2-a23c-e6cf035f6101 div.sk-label input.sk-toggleable__control:checked~label.sk-toggleable__label {background-color: #d4ebff;}#sk-75149966-e623-42f2-a23c-e6cf035f6101 input.sk-hidden--visually {border: 0;clip: rect(1px 1px 1px 1px);clip: rect(1px, 1px, 1px, 1px);height: 1px;margin: -1px;overflow: hidden;padding: 0;position: absolute;width: 1px;}#sk-75149966-e623-42f2-a23c-e6cf035f6101 div.sk-estimator {font-family: monospace;background-color: #f0f8ff;border: 1px dotted black;border-radius: 0.25em;box-sizing: border-box;margin-bottom: 0.5em;}#sk-75149966-e623-42f2-a23c-e6cf035f6101 div.sk-estimator:hover {background-color: #d4ebff;}#sk-75149966-e623-42f2-a23c-e6cf035f6101 div.sk-parallel-item::after {content: \"\";width: 100%;border-bottom: 1px solid gray;flex-grow: 1;}#sk-75149966-e623-42f2-a23c-e6cf035f6101 div.sk-label:hover label.sk-toggleable__label {background-color: #d4ebff;}#sk-75149966-e623-42f2-a23c-e6cf035f6101 div.sk-serial::before {content: \"\";position: absolute;border-left: 1px solid gray;box-sizing: border-box;top: 2em;bottom: 0;left: 50%;}#sk-75149966-e623-42f2-a23c-e6cf035f6101 div.sk-serial {display: flex;flex-direction: column;align-items: center;background-color: white;padding-right: 0.2em;padding-left: 0.2em;}#sk-75149966-e623-42f2-a23c-e6cf035f6101 div.sk-item {z-index: 1;}#sk-75149966-e623-42f2-a23c-e6cf035f6101 div.sk-parallel {display: flex;align-items: stretch;justify-content: center;background-color: white;}#sk-75149966-e623-42f2-a23c-e6cf035f6101 div.sk-parallel::before {content: \"\";position: absolute;border-left: 1px solid gray;box-sizing: border-box;top: 2em;bottom: 0;left: 50%;}#sk-75149966-e623-42f2-a23c-e6cf035f6101 div.sk-parallel-item {display: flex;flex-direction: column;position: relative;background-color: white;}#sk-75149966-e623-42f2-a23c-e6cf035f6101 div.sk-parallel-item:first-child::after {align-self: flex-end;width: 50%;}#sk-75149966-e623-42f2-a23c-e6cf035f6101 div.sk-parallel-item:last-child::after {align-self: flex-start;width: 50%;}#sk-75149966-e623-42f2-a23c-e6cf035f6101 div.sk-parallel-item:only-child::after {width: 0;}#sk-75149966-e623-42f2-a23c-e6cf035f6101 div.sk-dashed-wrapped {border: 1px dashed gray;margin: 0 0.4em 0.5em 0.4em;box-sizing: border-box;padding-bottom: 0.4em;background-color: white;position: relative;}#sk-75149966-e623-42f2-a23c-e6cf035f6101 div.sk-label label {font-family: monospace;font-weight: bold;background-color: white;display: inline-block;line-height: 1.2em;}#sk-75149966-e623-42f2-a23c-e6cf035f6101 div.sk-label-container {position: relative;z-index: 2;text-align: center;}#sk-75149966-e623-42f2-a23c-e6cf035f6101 div.sk-container {/* jupyter's `normalize.less` sets `[hidden] { display: none; }` but bootstrap.min.css set `[hidden] { display: none !important; }` so we also need the `!important` here to be able to override the default hidden behavior on the sphinx rendered scikit-learn.org. See: https://github.com/scikit-learn/scikit-learn/issues/21755 */display: inline-block !important;position: relative;}#sk-75149966-e623-42f2-a23c-e6cf035f6101 div.sk-text-repr-fallback {display: none;}</style><div id=\"sk-75149966-e623-42f2-a23c-e6cf035f6101\" class=\"sk-top-container\"><div class=\"sk-text-repr-fallback\"><pre>GridSearchCV(cv=5,\n",
       "             estimator=Pipeline(steps=[(&#x27;preprocessor&#x27;,\n",
       "                                        ColumnTransformer(transformers=[(&#x27;num&#x27;,\n",
       "                                                                         Pipeline(steps=[(&#x27;scale&#x27;,\n",
       "                                                                                          StandardScaler()),\n",
       "                                                                                         (&#x27;normalize&#x27;,\n",
       "                                                                                          Normalizer())]),\n",
       "                                                                         [&#x27;culmen_length_mm&#x27;,\n",
       "                                                                          &#x27;culmen_depth_mm&#x27;,\n",
       "                                                                          &#x27;flipper_length_mm&#x27;,\n",
       "                                                                          &#x27;body_mass_g&#x27;]),\n",
       "                                                                        (&#x27;cat&#x27;,\n",
       "                                                                         Pipeline(steps=[(&#x27;one&#x27;,\n",
       "                                                                                          OneHotEncoder())]),\n",
       "                                                                         [&#x27;island&#x27;,\n",
       "                                                                          &#x27;sex&#x27;])])),\n",
       "                                       (&#x27;model&#x27;, LogisticRegression())]),\n",
       "             param_grid={&#x27;preprocessor__num__normalize&#x27;: [Normalizer(),\n",
       "                                                          &#x27;passthrough&#x27;],\n",
       "                         &#x27;preprocessor__num__scale&#x27;: [StandardScaler(),\n",
       "                                                      MaxAbsScaler(),\n",
       "                                                      MinMaxScaler(),\n",
       "                                                      RobustScaler(),\n",
       "                                                      &#x27;passthrough&#x27;]},\n",
       "             refit=&#x27;f1&#x27;,\n",
       "             scoring={&#x27;accuracy&#x27;: &#x27;accuracy&#x27;, &#x27;f1&#x27;: &#x27;f1_macro&#x27;,\n",
       "                      &#x27;precision&#x27;: &#x27;precision_macro&#x27;,\n",
       "                      &#x27;recall&#x27;: &#x27;recall_macro&#x27;},\n",
       "             verbose=1)</pre><b>Please rerun this cell to show the HTML repr or trust the notebook.</b></div><div class=\"sk-container\" hidden><div class=\"sk-item sk-dashed-wrapped\"><div class=\"sk-label-container\"><div class=\"sk-label sk-toggleable\"><input class=\"sk-toggleable__control sk-hidden--visually\" id=\"6997e042-449d-4791-8053-d5665e6f7143\" type=\"checkbox\" ><label for=\"6997e042-449d-4791-8053-d5665e6f7143\" class=\"sk-toggleable__label sk-toggleable__label-arrow\">GridSearchCV</label><div class=\"sk-toggleable__content\"><pre>GridSearchCV(cv=5,\n",
       "             estimator=Pipeline(steps=[(&#x27;preprocessor&#x27;,\n",
       "                                        ColumnTransformer(transformers=[(&#x27;num&#x27;,\n",
       "                                                                         Pipeline(steps=[(&#x27;scale&#x27;,\n",
       "                                                                                          StandardScaler()),\n",
       "                                                                                         (&#x27;normalize&#x27;,\n",
       "                                                                                          Normalizer())]),\n",
       "                                                                         [&#x27;culmen_length_mm&#x27;,\n",
       "                                                                          &#x27;culmen_depth_mm&#x27;,\n",
       "                                                                          &#x27;flipper_length_mm&#x27;,\n",
       "                                                                          &#x27;body_mass_g&#x27;]),\n",
       "                                                                        (&#x27;cat&#x27;,\n",
       "                                                                         Pipeline(steps=[(&#x27;one&#x27;,\n",
       "                                                                                          OneHotEncoder())]),\n",
       "                                                                         [&#x27;island&#x27;,\n",
       "                                                                          &#x27;sex&#x27;])])),\n",
       "                                       (&#x27;model&#x27;, LogisticRegression())]),\n",
       "             param_grid={&#x27;preprocessor__num__normalize&#x27;: [Normalizer(),\n",
       "                                                          &#x27;passthrough&#x27;],\n",
       "                         &#x27;preprocessor__num__scale&#x27;: [StandardScaler(),\n",
       "                                                      MaxAbsScaler(),\n",
       "                                                      MinMaxScaler(),\n",
       "                                                      RobustScaler(),\n",
       "                                                      &#x27;passthrough&#x27;]},\n",
       "             refit=&#x27;f1&#x27;,\n",
       "             scoring={&#x27;accuracy&#x27;: &#x27;accuracy&#x27;, &#x27;f1&#x27;: &#x27;f1_macro&#x27;,\n",
       "                      &#x27;precision&#x27;: &#x27;precision_macro&#x27;,\n",
       "                      &#x27;recall&#x27;: &#x27;recall_macro&#x27;},\n",
       "             verbose=1)</pre></div></div></div><div class=\"sk-parallel\"><div class=\"sk-parallel-item\"><div class=\"sk-item\"><div class=\"sk-serial\"><div class=\"sk-item\"><div class=\"sk-serial\"><div class=\"sk-item sk-dashed-wrapped\"><div class=\"sk-label-container\"><div class=\"sk-label sk-toggleable\"><input class=\"sk-toggleable__control sk-hidden--visually\" id=\"955dd02f-497d-4285-a645-2b89020367cb\" type=\"checkbox\" ><label for=\"955dd02f-497d-4285-a645-2b89020367cb\" class=\"sk-toggleable__label sk-toggleable__label-arrow\">preprocessor: ColumnTransformer</label><div class=\"sk-toggleable__content\"><pre>ColumnTransformer(transformers=[(&#x27;num&#x27;,\n",
       "                                 Pipeline(steps=[(&#x27;scale&#x27;, StandardScaler()),\n",
       "                                                 (&#x27;normalize&#x27;, Normalizer())]),\n",
       "                                 [&#x27;culmen_length_mm&#x27;, &#x27;culmen_depth_mm&#x27;,\n",
       "                                  &#x27;flipper_length_mm&#x27;, &#x27;body_mass_g&#x27;]),\n",
       "                                (&#x27;cat&#x27;,\n",
       "                                 Pipeline(steps=[(&#x27;one&#x27;, OneHotEncoder())]),\n",
       "                                 [&#x27;island&#x27;, &#x27;sex&#x27;])])</pre></div></div></div><div class=\"sk-parallel\"><div class=\"sk-parallel-item\"><div class=\"sk-item\"><div class=\"sk-label-container\"><div class=\"sk-label sk-toggleable\"><input class=\"sk-toggleable__control sk-hidden--visually\" id=\"02e465c3-896e-4eb7-adcf-f07849f325ca\" type=\"checkbox\" ><label for=\"02e465c3-896e-4eb7-adcf-f07849f325ca\" class=\"sk-toggleable__label sk-toggleable__label-arrow\">num</label><div class=\"sk-toggleable__content\"><pre>[&#x27;culmen_length_mm&#x27;, &#x27;culmen_depth_mm&#x27;, &#x27;flipper_length_mm&#x27;, &#x27;body_mass_g&#x27;]</pre></div></div></div><div class=\"sk-serial\"><div class=\"sk-item\"><div class=\"sk-serial\"><div class=\"sk-item\"><div class=\"sk-estimator sk-toggleable\"><input class=\"sk-toggleable__control sk-hidden--visually\" id=\"2db7cd6a-3d9a-4711-86a0-dd416bd85af7\" type=\"checkbox\" ><label for=\"2db7cd6a-3d9a-4711-86a0-dd416bd85af7\" class=\"sk-toggleable__label sk-toggleable__label-arrow\">StandardScaler</label><div class=\"sk-toggleable__content\"><pre>StandardScaler()</pre></div></div></div><div class=\"sk-item\"><div class=\"sk-estimator sk-toggleable\"><input class=\"sk-toggleable__control sk-hidden--visually\" id=\"db9d61fc-0fb5-491d-afe5-f4d83719553f\" type=\"checkbox\" ><label for=\"db9d61fc-0fb5-491d-afe5-f4d83719553f\" class=\"sk-toggleable__label sk-toggleable__label-arrow\">Normalizer</label><div class=\"sk-toggleable__content\"><pre>Normalizer()</pre></div></div></div></div></div></div></div></div><div class=\"sk-parallel-item\"><div class=\"sk-item\"><div class=\"sk-label-container\"><div class=\"sk-label sk-toggleable\"><input class=\"sk-toggleable__control sk-hidden--visually\" id=\"44b30388-d973-4f4a-8926-463a0023b23b\" type=\"checkbox\" ><label for=\"44b30388-d973-4f4a-8926-463a0023b23b\" class=\"sk-toggleable__label sk-toggleable__label-arrow\">cat</label><div class=\"sk-toggleable__content\"><pre>[&#x27;island&#x27;, &#x27;sex&#x27;]</pre></div></div></div><div class=\"sk-serial\"><div class=\"sk-item\"><div class=\"sk-serial\"><div class=\"sk-item\"><div class=\"sk-estimator sk-toggleable\"><input class=\"sk-toggleable__control sk-hidden--visually\" id=\"cbdb4920-5bb1-48e8-82a8-dd99366571d4\" type=\"checkbox\" ><label for=\"cbdb4920-5bb1-48e8-82a8-dd99366571d4\" class=\"sk-toggleable__label sk-toggleable__label-arrow\">OneHotEncoder</label><div class=\"sk-toggleable__content\"><pre>OneHotEncoder()</pre></div></div></div></div></div></div></div></div></div></div><div class=\"sk-item\"><div class=\"sk-estimator sk-toggleable\"><input class=\"sk-toggleable__control sk-hidden--visually\" id=\"f903f7a3-33fe-4efe-912e-d77d10fa8c2d\" type=\"checkbox\" ><label for=\"f903f7a3-33fe-4efe-912e-d77d10fa8c2d\" class=\"sk-toggleable__label sk-toggleable__label-arrow\">LogisticRegression</label><div class=\"sk-toggleable__content\"><pre>LogisticRegression()</pre></div></div></div></div></div></div></div></div></div></div></div></div>"
      ],
      "text/plain": [
       "GridSearchCV(cv=5,\n",
       "             estimator=Pipeline(steps=[('preprocessor',\n",
       "                                        ColumnTransformer(transformers=[('num',\n",
       "                                                                         Pipeline(steps=[('scale',\n",
       "                                                                                          StandardScaler()),\n",
       "                                                                                         ('normalize',\n",
       "                                                                                          Normalizer())]),\n",
       "                                                                         ['culmen_length_mm',\n",
       "                                                                          'culmen_depth_mm',\n",
       "                                                                          'flipper_length_mm',\n",
       "                                                                          'body_mass_g']),\n",
       "                                                                        ('cat',\n",
       "                                                                         Pipeline(steps=[('one',\n",
       "                                                                                          OneHotEncoder())]),\n",
       "                                                                         ['island',\n",
       "                                                                          'sex'])])),\n",
       "                                       ('model', LogisticRegression())]),\n",
       "             param_grid={'preprocessor__num__normalize': [Normalizer(),\n",
       "                                                          'passthrough'],\n",
       "                         'preprocessor__num__scale': [StandardScaler(),\n",
       "                                                      MaxAbsScaler(),\n",
       "                                                      MinMaxScaler(),\n",
       "                                                      RobustScaler(),\n",
       "                                                      'passthrough']},\n",
       "             refit='f1',\n",
       "             scoring={'accuracy': 'accuracy', 'f1': 'f1_macro',\n",
       "                      'precision': 'precision_macro',\n",
       "                      'recall': 'recall_macro'},\n",
       "             verbose=1)"
      ]
     },
     "execution_count": 25,
     "metadata": {},
     "output_type": "execute_result"
    }
   ],
   "source": [
    "grid.fit(X_train,  y_train)"
   ]
  },
  {
   "cell_type": "code",
   "execution_count": 26,
   "id": "cfe573b4",
   "metadata": {},
   "outputs": [
    {
     "data": {
      "text/plain": [
       "0.9965721819380355"
      ]
     },
     "execution_count": 26,
     "metadata": {},
     "output_type": "execute_result"
    }
   ],
   "source": [
    "grid.best_score_"
   ]
  },
  {
   "cell_type": "code",
   "execution_count": 27,
   "id": "ec070db4",
   "metadata": {},
   "outputs": [
    {
     "data": {
      "text/plain": [
       "{'preprocessor__num__normalize': Normalizer(),\n",
       " 'preprocessor__num__scale': MinMaxScaler()}"
      ]
     },
     "execution_count": 27,
     "metadata": {},
     "output_type": "execute_result"
    }
   ],
   "source": [
    "grid.best_params_"
   ]
  },
  {
   "cell_type": "code",
   "execution_count": 28,
   "id": "af0ac3e0",
   "metadata": {},
   "outputs": [
    {
     "data": {
      "text/html": [
       "<style>#sk-fe25e51d-9418-4eea-9c65-87342664c763 {color: black;background-color: white;}#sk-fe25e51d-9418-4eea-9c65-87342664c763 pre{padding: 0;}#sk-fe25e51d-9418-4eea-9c65-87342664c763 div.sk-toggleable {background-color: white;}#sk-fe25e51d-9418-4eea-9c65-87342664c763 label.sk-toggleable__label {cursor: pointer;display: block;width: 100%;margin-bottom: 0;padding: 0.3em;box-sizing: border-box;text-align: center;}#sk-fe25e51d-9418-4eea-9c65-87342664c763 label.sk-toggleable__label-arrow:before {content: \"▸\";float: left;margin-right: 0.25em;color: #696969;}#sk-fe25e51d-9418-4eea-9c65-87342664c763 label.sk-toggleable__label-arrow:hover:before {color: black;}#sk-fe25e51d-9418-4eea-9c65-87342664c763 div.sk-estimator:hover label.sk-toggleable__label-arrow:before {color: black;}#sk-fe25e51d-9418-4eea-9c65-87342664c763 div.sk-toggleable__content {max-height: 0;max-width: 0;overflow: hidden;text-align: left;background-color: #f0f8ff;}#sk-fe25e51d-9418-4eea-9c65-87342664c763 div.sk-toggleable__content pre {margin: 0.2em;color: black;border-radius: 0.25em;background-color: #f0f8ff;}#sk-fe25e51d-9418-4eea-9c65-87342664c763 input.sk-toggleable__control:checked~div.sk-toggleable__content {max-height: 200px;max-width: 100%;overflow: auto;}#sk-fe25e51d-9418-4eea-9c65-87342664c763 input.sk-toggleable__control:checked~label.sk-toggleable__label-arrow:before {content: \"▾\";}#sk-fe25e51d-9418-4eea-9c65-87342664c763 div.sk-estimator input.sk-toggleable__control:checked~label.sk-toggleable__label {background-color: #d4ebff;}#sk-fe25e51d-9418-4eea-9c65-87342664c763 div.sk-label input.sk-toggleable__control:checked~label.sk-toggleable__label {background-color: #d4ebff;}#sk-fe25e51d-9418-4eea-9c65-87342664c763 input.sk-hidden--visually {border: 0;clip: rect(1px 1px 1px 1px);clip: rect(1px, 1px, 1px, 1px);height: 1px;margin: -1px;overflow: hidden;padding: 0;position: absolute;width: 1px;}#sk-fe25e51d-9418-4eea-9c65-87342664c763 div.sk-estimator {font-family: monospace;background-color: #f0f8ff;border: 1px dotted black;border-radius: 0.25em;box-sizing: border-box;margin-bottom: 0.5em;}#sk-fe25e51d-9418-4eea-9c65-87342664c763 div.sk-estimator:hover {background-color: #d4ebff;}#sk-fe25e51d-9418-4eea-9c65-87342664c763 div.sk-parallel-item::after {content: \"\";width: 100%;border-bottom: 1px solid gray;flex-grow: 1;}#sk-fe25e51d-9418-4eea-9c65-87342664c763 div.sk-label:hover label.sk-toggleable__label {background-color: #d4ebff;}#sk-fe25e51d-9418-4eea-9c65-87342664c763 div.sk-serial::before {content: \"\";position: absolute;border-left: 1px solid gray;box-sizing: border-box;top: 2em;bottom: 0;left: 50%;}#sk-fe25e51d-9418-4eea-9c65-87342664c763 div.sk-serial {display: flex;flex-direction: column;align-items: center;background-color: white;padding-right: 0.2em;padding-left: 0.2em;}#sk-fe25e51d-9418-4eea-9c65-87342664c763 div.sk-item {z-index: 1;}#sk-fe25e51d-9418-4eea-9c65-87342664c763 div.sk-parallel {display: flex;align-items: stretch;justify-content: center;background-color: white;}#sk-fe25e51d-9418-4eea-9c65-87342664c763 div.sk-parallel::before {content: \"\";position: absolute;border-left: 1px solid gray;box-sizing: border-box;top: 2em;bottom: 0;left: 50%;}#sk-fe25e51d-9418-4eea-9c65-87342664c763 div.sk-parallel-item {display: flex;flex-direction: column;position: relative;background-color: white;}#sk-fe25e51d-9418-4eea-9c65-87342664c763 div.sk-parallel-item:first-child::after {align-self: flex-end;width: 50%;}#sk-fe25e51d-9418-4eea-9c65-87342664c763 div.sk-parallel-item:last-child::after {align-self: flex-start;width: 50%;}#sk-fe25e51d-9418-4eea-9c65-87342664c763 div.sk-parallel-item:only-child::after {width: 0;}#sk-fe25e51d-9418-4eea-9c65-87342664c763 div.sk-dashed-wrapped {border: 1px dashed gray;margin: 0 0.4em 0.5em 0.4em;box-sizing: border-box;padding-bottom: 0.4em;background-color: white;position: relative;}#sk-fe25e51d-9418-4eea-9c65-87342664c763 div.sk-label label {font-family: monospace;font-weight: bold;background-color: white;display: inline-block;line-height: 1.2em;}#sk-fe25e51d-9418-4eea-9c65-87342664c763 div.sk-label-container {position: relative;z-index: 2;text-align: center;}#sk-fe25e51d-9418-4eea-9c65-87342664c763 div.sk-container {/* jupyter's `normalize.less` sets `[hidden] { display: none; }` but bootstrap.min.css set `[hidden] { display: none !important; }` so we also need the `!important` here to be able to override the default hidden behavior on the sphinx rendered scikit-learn.org. See: https://github.com/scikit-learn/scikit-learn/issues/21755 */display: inline-block !important;position: relative;}#sk-fe25e51d-9418-4eea-9c65-87342664c763 div.sk-text-repr-fallback {display: none;}</style><div id=\"sk-fe25e51d-9418-4eea-9c65-87342664c763\" class=\"sk-top-container\"><div class=\"sk-text-repr-fallback\"><pre>Pipeline(steps=[(&#x27;preprocessor&#x27;,\n",
       "                 ColumnTransformer(transformers=[(&#x27;num&#x27;,\n",
       "                                                  Pipeline(steps=[(&#x27;scale&#x27;,\n",
       "                                                                   MinMaxScaler()),\n",
       "                                                                  (&#x27;normalize&#x27;,\n",
       "                                                                   Normalizer())]),\n",
       "                                                  [&#x27;culmen_length_mm&#x27;,\n",
       "                                                   &#x27;culmen_depth_mm&#x27;,\n",
       "                                                   &#x27;flipper_length_mm&#x27;,\n",
       "                                                   &#x27;body_mass_g&#x27;]),\n",
       "                                                 (&#x27;cat&#x27;,\n",
       "                                                  Pipeline(steps=[(&#x27;one&#x27;,\n",
       "                                                                   OneHotEncoder())]),\n",
       "                                                  [&#x27;island&#x27;, &#x27;sex&#x27;])])),\n",
       "                (&#x27;model&#x27;, LogisticRegression(solver=&#x27;newton-cg&#x27;))])</pre><b>Please rerun this cell to show the HTML repr or trust the notebook.</b></div><div class=\"sk-container\" hidden><div class=\"sk-item sk-dashed-wrapped\"><div class=\"sk-label-container\"><div class=\"sk-label sk-toggleable\"><input class=\"sk-toggleable__control sk-hidden--visually\" id=\"a9316cfc-dc8f-443f-b7f5-1504e2d03335\" type=\"checkbox\" ><label for=\"a9316cfc-dc8f-443f-b7f5-1504e2d03335\" class=\"sk-toggleable__label sk-toggleable__label-arrow\">Pipeline</label><div class=\"sk-toggleable__content\"><pre>Pipeline(steps=[(&#x27;preprocessor&#x27;,\n",
       "                 ColumnTransformer(transformers=[(&#x27;num&#x27;,\n",
       "                                                  Pipeline(steps=[(&#x27;scale&#x27;,\n",
       "                                                                   MinMaxScaler()),\n",
       "                                                                  (&#x27;normalize&#x27;,\n",
       "                                                                   Normalizer())]),\n",
       "                                                  [&#x27;culmen_length_mm&#x27;,\n",
       "                                                   &#x27;culmen_depth_mm&#x27;,\n",
       "                                                   &#x27;flipper_length_mm&#x27;,\n",
       "                                                   &#x27;body_mass_g&#x27;]),\n",
       "                                                 (&#x27;cat&#x27;,\n",
       "                                                  Pipeline(steps=[(&#x27;one&#x27;,\n",
       "                                                                   OneHotEncoder())]),\n",
       "                                                  [&#x27;island&#x27;, &#x27;sex&#x27;])])),\n",
       "                (&#x27;model&#x27;, LogisticRegression(solver=&#x27;newton-cg&#x27;))])</pre></div></div></div><div class=\"sk-serial\"><div class=\"sk-item sk-dashed-wrapped\"><div class=\"sk-label-container\"><div class=\"sk-label sk-toggleable\"><input class=\"sk-toggleable__control sk-hidden--visually\" id=\"05796bcd-f05c-4687-93fd-1abc39f791ab\" type=\"checkbox\" ><label for=\"05796bcd-f05c-4687-93fd-1abc39f791ab\" class=\"sk-toggleable__label sk-toggleable__label-arrow\">preprocessor: ColumnTransformer</label><div class=\"sk-toggleable__content\"><pre>ColumnTransformer(transformers=[(&#x27;num&#x27;,\n",
       "                                 Pipeline(steps=[(&#x27;scale&#x27;, MinMaxScaler()),\n",
       "                                                 (&#x27;normalize&#x27;, Normalizer())]),\n",
       "                                 [&#x27;culmen_length_mm&#x27;, &#x27;culmen_depth_mm&#x27;,\n",
       "                                  &#x27;flipper_length_mm&#x27;, &#x27;body_mass_g&#x27;]),\n",
       "                                (&#x27;cat&#x27;,\n",
       "                                 Pipeline(steps=[(&#x27;one&#x27;, OneHotEncoder())]),\n",
       "                                 [&#x27;island&#x27;, &#x27;sex&#x27;])])</pre></div></div></div><div class=\"sk-parallel\"><div class=\"sk-parallel-item\"><div class=\"sk-item\"><div class=\"sk-label-container\"><div class=\"sk-label sk-toggleable\"><input class=\"sk-toggleable__control sk-hidden--visually\" id=\"e176a5dd-adc1-495f-8922-c98893182f0c\" type=\"checkbox\" ><label for=\"e176a5dd-adc1-495f-8922-c98893182f0c\" class=\"sk-toggleable__label sk-toggleable__label-arrow\">num</label><div class=\"sk-toggleable__content\"><pre>[&#x27;culmen_length_mm&#x27;, &#x27;culmen_depth_mm&#x27;, &#x27;flipper_length_mm&#x27;, &#x27;body_mass_g&#x27;]</pre></div></div></div><div class=\"sk-serial\"><div class=\"sk-item\"><div class=\"sk-serial\"><div class=\"sk-item\"><div class=\"sk-estimator sk-toggleable\"><input class=\"sk-toggleable__control sk-hidden--visually\" id=\"72fb7d13-fa64-4674-b330-5aa0fee01e4d\" type=\"checkbox\" ><label for=\"72fb7d13-fa64-4674-b330-5aa0fee01e4d\" class=\"sk-toggleable__label sk-toggleable__label-arrow\">MinMaxScaler</label><div class=\"sk-toggleable__content\"><pre>MinMaxScaler()</pre></div></div></div><div class=\"sk-item\"><div class=\"sk-estimator sk-toggleable\"><input class=\"sk-toggleable__control sk-hidden--visually\" id=\"d3bcb941-49e4-484e-84e8-f36ec6261e6a\" type=\"checkbox\" ><label for=\"d3bcb941-49e4-484e-84e8-f36ec6261e6a\" class=\"sk-toggleable__label sk-toggleable__label-arrow\">Normalizer</label><div class=\"sk-toggleable__content\"><pre>Normalizer()</pre></div></div></div></div></div></div></div></div><div class=\"sk-parallel-item\"><div class=\"sk-item\"><div class=\"sk-label-container\"><div class=\"sk-label sk-toggleable\"><input class=\"sk-toggleable__control sk-hidden--visually\" id=\"b3afbfe1-8cc8-46d0-bbf8-f9c900a1ca1b\" type=\"checkbox\" ><label for=\"b3afbfe1-8cc8-46d0-bbf8-f9c900a1ca1b\" class=\"sk-toggleable__label sk-toggleable__label-arrow\">cat</label><div class=\"sk-toggleable__content\"><pre>[&#x27;island&#x27;, &#x27;sex&#x27;]</pre></div></div></div><div class=\"sk-serial\"><div class=\"sk-item\"><div class=\"sk-serial\"><div class=\"sk-item\"><div class=\"sk-estimator sk-toggleable\"><input class=\"sk-toggleable__control sk-hidden--visually\" id=\"5eebb7be-f322-415e-b1d5-85765daf5ee9\" type=\"checkbox\" ><label for=\"5eebb7be-f322-415e-b1d5-85765daf5ee9\" class=\"sk-toggleable__label sk-toggleable__label-arrow\">OneHotEncoder</label><div class=\"sk-toggleable__content\"><pre>OneHotEncoder()</pre></div></div></div></div></div></div></div></div></div></div><div class=\"sk-item\"><div class=\"sk-estimator sk-toggleable\"><input class=\"sk-toggleable__control sk-hidden--visually\" id=\"a6a55cd4-8f95-42d4-bb27-35d7a31b6bef\" type=\"checkbox\" ><label for=\"a6a55cd4-8f95-42d4-bb27-35d7a31b6bef\" class=\"sk-toggleable__label sk-toggleable__label-arrow\">LogisticRegression</label><div class=\"sk-toggleable__content\"><pre>LogisticRegression(solver=&#x27;newton-cg&#x27;)</pre></div></div></div></div></div></div></div>"
      ],
      "text/plain": [
       "Pipeline(steps=[('preprocessor',\n",
       "                 ColumnTransformer(transformers=[('num',\n",
       "                                                  Pipeline(steps=[('scale',\n",
       "                                                                   MinMaxScaler()),\n",
       "                                                                  ('normalize',\n",
       "                                                                   Normalizer())]),\n",
       "                                                  ['culmen_length_mm',\n",
       "                                                   'culmen_depth_mm',\n",
       "                                                   'flipper_length_mm',\n",
       "                                                   'body_mass_g']),\n",
       "                                                 ('cat',\n",
       "                                                  Pipeline(steps=[('one',\n",
       "                                                                   OneHotEncoder())]),\n",
       "                                                  ['island', 'sex'])])),\n",
       "                ('model', LogisticRegression(solver='newton-cg'))])"
      ]
     },
     "execution_count": 28,
     "metadata": {},
     "output_type": "execute_result"
    }
   ],
   "source": [
    "grid.best_estimator_"
   ]
  },
  {
   "cell_type": "code",
   "execution_count": 29,
   "id": "2d992a9e",
   "metadata": {},
   "outputs": [
    {
     "data": {
      "text/html": [
       "<div>\n",
       "<style scoped>\n",
       "    .dataframe tbody tr th:only-of-type {\n",
       "        vertical-align: middle;\n",
       "    }\n",
       "\n",
       "    .dataframe tbody tr th {\n",
       "        vertical-align: top;\n",
       "    }\n",
       "\n",
       "    .dataframe thead th {\n",
       "        text-align: right;\n",
       "    }\n",
       "</style>\n",
       "<table border=\"1\" class=\"dataframe\">\n",
       "  <thead>\n",
       "    <tr style=\"text-align: right;\">\n",
       "      <th></th>\n",
       "      <th>mean_fit_time</th>\n",
       "      <th>std_fit_time</th>\n",
       "      <th>mean_score_time</th>\n",
       "      <th>std_score_time</th>\n",
       "      <th>param_model__solver</th>\n",
       "      <th>param_preprocessor__num__normalize</th>\n",
       "      <th>param_preprocessor__num__scale</th>\n",
       "      <th>params</th>\n",
       "      <th>split0_test_accuracy</th>\n",
       "      <th>split1_test_accuracy</th>\n",
       "      <th>...</th>\n",
       "      <th>std_test_recall</th>\n",
       "      <th>rank_test_recall</th>\n",
       "      <th>split0_test_f1</th>\n",
       "      <th>split1_test_f1</th>\n",
       "      <th>split2_test_f1</th>\n",
       "      <th>split3_test_f1</th>\n",
       "      <th>split4_test_f1</th>\n",
       "      <th>mean_test_f1</th>\n",
       "      <th>std_test_f1</th>\n",
       "      <th>rank_test_f1</th>\n",
       "    </tr>\n",
       "  </thead>\n",
       "  <tbody>\n",
       "    <tr>\n",
       "      <th>12</th>\n",
       "      <td>0.027007</td>\n",
       "      <td>0.001280</td>\n",
       "      <td>0.008000</td>\n",
       "      <td>0.000073</td>\n",
       "      <td>lbfgs</td>\n",
       "      <td>Normalizer()</td>\n",
       "      <td>MinMaxScaler()</td>\n",
       "      <td>{'model__solver': 'lbfgs', 'preprocessor__num_...</td>\n",
       "      <td>1.0</td>\n",
       "      <td>1.00</td>\n",
       "      <td>...</td>\n",
       "      <td>0.006349</td>\n",
       "      <td>1</td>\n",
       "      <td>1.0</td>\n",
       "      <td>1.000000</td>\n",
       "      <td>1.000000</td>\n",
       "      <td>0.982861</td>\n",
       "      <td>1.0</td>\n",
       "      <td>0.996572</td>\n",
       "      <td>0.006856</td>\n",
       "      <td>1</td>\n",
       "    </tr>\n",
       "    <tr>\n",
       "      <th>22</th>\n",
       "      <td>0.009194</td>\n",
       "      <td>0.000308</td>\n",
       "      <td>0.007965</td>\n",
       "      <td>0.000060</td>\n",
       "      <td>liblinear</td>\n",
       "      <td>Normalizer()</td>\n",
       "      <td>MinMaxScaler()</td>\n",
       "      <td>{'model__solver': 'liblinear', 'preprocessor__...</td>\n",
       "      <td>1.0</td>\n",
       "      <td>1.00</td>\n",
       "      <td>...</td>\n",
       "      <td>0.006349</td>\n",
       "      <td>1</td>\n",
       "      <td>1.0</td>\n",
       "      <td>1.000000</td>\n",
       "      <td>1.000000</td>\n",
       "      <td>0.982861</td>\n",
       "      <td>1.0</td>\n",
       "      <td>0.996572</td>\n",
       "      <td>0.006856</td>\n",
       "      <td>1</td>\n",
       "    </tr>\n",
       "    <tr>\n",
       "      <th>2</th>\n",
       "      <td>0.027079</td>\n",
       "      <td>0.001208</td>\n",
       "      <td>0.008084</td>\n",
       "      <td>0.000061</td>\n",
       "      <td>newton-cg</td>\n",
       "      <td>Normalizer()</td>\n",
       "      <td>MinMaxScaler()</td>\n",
       "      <td>{'model__solver': 'newton-cg', 'preprocessor__...</td>\n",
       "      <td>1.0</td>\n",
       "      <td>1.00</td>\n",
       "      <td>...</td>\n",
       "      <td>0.006349</td>\n",
       "      <td>1</td>\n",
       "      <td>1.0</td>\n",
       "      <td>1.000000</td>\n",
       "      <td>1.000000</td>\n",
       "      <td>0.982861</td>\n",
       "      <td>1.0</td>\n",
       "      <td>0.996572</td>\n",
       "      <td>0.006856</td>\n",
       "      <td>1</td>\n",
       "    </tr>\n",
       "    <tr>\n",
       "      <th>42</th>\n",
       "      <td>0.014794</td>\n",
       "      <td>0.000199</td>\n",
       "      <td>0.008879</td>\n",
       "      <td>0.000581</td>\n",
       "      <td>saga</td>\n",
       "      <td>Normalizer()</td>\n",
       "      <td>MinMaxScaler()</td>\n",
       "      <td>{'model__solver': 'saga', 'preprocessor__num__...</td>\n",
       "      <td>1.0</td>\n",
       "      <td>1.00</td>\n",
       "      <td>...</td>\n",
       "      <td>0.006349</td>\n",
       "      <td>1</td>\n",
       "      <td>1.0</td>\n",
       "      <td>1.000000</td>\n",
       "      <td>1.000000</td>\n",
       "      <td>0.982861</td>\n",
       "      <td>1.0</td>\n",
       "      <td>0.996572</td>\n",
       "      <td>0.006856</td>\n",
       "      <td>1</td>\n",
       "    </tr>\n",
       "    <tr>\n",
       "      <th>32</th>\n",
       "      <td>0.012166</td>\n",
       "      <td>0.000412</td>\n",
       "      <td>0.008215</td>\n",
       "      <td>0.000204</td>\n",
       "      <td>sag</td>\n",
       "      <td>Normalizer()</td>\n",
       "      <td>MinMaxScaler()</td>\n",
       "      <td>{'model__solver': 'sag', 'preprocessor__num__n...</td>\n",
       "      <td>1.0</td>\n",
       "      <td>1.00</td>\n",
       "      <td>...</td>\n",
       "      <td>0.006349</td>\n",
       "      <td>1</td>\n",
       "      <td>1.0</td>\n",
       "      <td>1.000000</td>\n",
       "      <td>1.000000</td>\n",
       "      <td>0.982861</td>\n",
       "      <td>1.0</td>\n",
       "      <td>0.996572</td>\n",
       "      <td>0.006856</td>\n",
       "      <td>1</td>\n",
       "    </tr>\n",
       "    <tr>\n",
       "      <th>19</th>\n",
       "      <td>0.050668</td>\n",
       "      <td>0.000763</td>\n",
       "      <td>0.007300</td>\n",
       "      <td>0.000762</td>\n",
       "      <td>lbfgs</td>\n",
       "      <td>passthrough</td>\n",
       "      <td>passthrough</td>\n",
       "      <td>{'model__solver': 'lbfgs', 'preprocessor__num_...</td>\n",
       "      <td>1.0</td>\n",
       "      <td>1.00</td>\n",
       "      <td>...</td>\n",
       "      <td>0.012121</td>\n",
       "      <td>11</td>\n",
       "      <td>1.0</td>\n",
       "      <td>1.000000</td>\n",
       "      <td>0.976375</td>\n",
       "      <td>1.000000</td>\n",
       "      <td>1.0</td>\n",
       "      <td>0.995275</td>\n",
       "      <td>0.009450</td>\n",
       "      <td>6</td>\n",
       "    </tr>\n",
       "    <tr>\n",
       "      <th>29</th>\n",
       "      <td>0.007932</td>\n",
       "      <td>0.000058</td>\n",
       "      <td>0.007063</td>\n",
       "      <td>0.000163</td>\n",
       "      <td>liblinear</td>\n",
       "      <td>passthrough</td>\n",
       "      <td>passthrough</td>\n",
       "      <td>{'model__solver': 'liblinear', 'preprocessor__...</td>\n",
       "      <td>1.0</td>\n",
       "      <td>1.00</td>\n",
       "      <td>...</td>\n",
       "      <td>0.012121</td>\n",
       "      <td>11</td>\n",
       "      <td>1.0</td>\n",
       "      <td>1.000000</td>\n",
       "      <td>0.976375</td>\n",
       "      <td>1.000000</td>\n",
       "      <td>1.0</td>\n",
       "      <td>0.995275</td>\n",
       "      <td>0.009450</td>\n",
       "      <td>6</td>\n",
       "    </tr>\n",
       "    <tr>\n",
       "      <th>17</th>\n",
       "      <td>0.027606</td>\n",
       "      <td>0.000913</td>\n",
       "      <td>0.008000</td>\n",
       "      <td>0.000094</td>\n",
       "      <td>lbfgs</td>\n",
       "      <td>passthrough</td>\n",
       "      <td>MinMaxScaler()</td>\n",
       "      <td>{'model__solver': 'lbfgs', 'preprocessor__num_...</td>\n",
       "      <td>1.0</td>\n",
       "      <td>0.98</td>\n",
       "      <td>...</td>\n",
       "      <td>0.006349</td>\n",
       "      <td>1</td>\n",
       "      <td>1.0</td>\n",
       "      <td>0.975997</td>\n",
       "      <td>1.000000</td>\n",
       "      <td>1.000000</td>\n",
       "      <td>1.0</td>\n",
       "      <td>0.995199</td>\n",
       "      <td>0.009601</td>\n",
       "      <td>8</td>\n",
       "    </tr>\n",
       "    <tr>\n",
       "      <th>27</th>\n",
       "      <td>0.008277</td>\n",
       "      <td>0.000031</td>\n",
       "      <td>0.007700</td>\n",
       "      <td>0.000037</td>\n",
       "      <td>liblinear</td>\n",
       "      <td>passthrough</td>\n",
       "      <td>MinMaxScaler()</td>\n",
       "      <td>{'model__solver': 'liblinear', 'preprocessor__...</td>\n",
       "      <td>1.0</td>\n",
       "      <td>0.98</td>\n",
       "      <td>...</td>\n",
       "      <td>0.006349</td>\n",
       "      <td>1</td>\n",
       "      <td>1.0</td>\n",
       "      <td>0.975997</td>\n",
       "      <td>1.000000</td>\n",
       "      <td>1.000000</td>\n",
       "      <td>1.0</td>\n",
       "      <td>0.995199</td>\n",
       "      <td>0.009601</td>\n",
       "      <td>8</td>\n",
       "    </tr>\n",
       "    <tr>\n",
       "      <th>7</th>\n",
       "      <td>0.028171</td>\n",
       "      <td>0.000816</td>\n",
       "      <td>0.008185</td>\n",
       "      <td>0.000295</td>\n",
       "      <td>newton-cg</td>\n",
       "      <td>passthrough</td>\n",
       "      <td>MinMaxScaler()</td>\n",
       "      <td>{'model__solver': 'newton-cg', 'preprocessor__...</td>\n",
       "      <td>1.0</td>\n",
       "      <td>0.98</td>\n",
       "      <td>...</td>\n",
       "      <td>0.006349</td>\n",
       "      <td>1</td>\n",
       "      <td>1.0</td>\n",
       "      <td>0.975997</td>\n",
       "      <td>1.000000</td>\n",
       "      <td>1.000000</td>\n",
       "      <td>1.0</td>\n",
       "      <td>0.995199</td>\n",
       "      <td>0.009601</td>\n",
       "      <td>8</td>\n",
       "    </tr>\n",
       "  </tbody>\n",
       "</table>\n",
       "<p>10 rows × 40 columns</p>\n",
       "</div>"
      ],
      "text/plain": [
       "    mean_fit_time  std_fit_time  mean_score_time  std_score_time  \\\n",
       "12       0.027007      0.001280         0.008000        0.000073   \n",
       "22       0.009194      0.000308         0.007965        0.000060   \n",
       "2        0.027079      0.001208         0.008084        0.000061   \n",
       "42       0.014794      0.000199         0.008879        0.000581   \n",
       "32       0.012166      0.000412         0.008215        0.000204   \n",
       "19       0.050668      0.000763         0.007300        0.000762   \n",
       "29       0.007932      0.000058         0.007063        0.000163   \n",
       "17       0.027606      0.000913         0.008000        0.000094   \n",
       "27       0.008277      0.000031         0.007700        0.000037   \n",
       "7        0.028171      0.000816         0.008185        0.000295   \n",
       "\n",
       "   param_model__solver param_preprocessor__num__normalize  \\\n",
       "12               lbfgs                       Normalizer()   \n",
       "22           liblinear                       Normalizer()   \n",
       "2            newton-cg                       Normalizer()   \n",
       "42                saga                       Normalizer()   \n",
       "32                 sag                       Normalizer()   \n",
       "19               lbfgs                        passthrough   \n",
       "29           liblinear                        passthrough   \n",
       "17               lbfgs                        passthrough   \n",
       "27           liblinear                        passthrough   \n",
       "7            newton-cg                        passthrough   \n",
       "\n",
       "   param_preprocessor__num__scale  \\\n",
       "12                 MinMaxScaler()   \n",
       "22                 MinMaxScaler()   \n",
       "2                  MinMaxScaler()   \n",
       "42                 MinMaxScaler()   \n",
       "32                 MinMaxScaler()   \n",
       "19                    passthrough   \n",
       "29                    passthrough   \n",
       "17                 MinMaxScaler()   \n",
       "27                 MinMaxScaler()   \n",
       "7                  MinMaxScaler()   \n",
       "\n",
       "                                               params  split0_test_accuracy  \\\n",
       "12  {'model__solver': 'lbfgs', 'preprocessor__num_...                   1.0   \n",
       "22  {'model__solver': 'liblinear', 'preprocessor__...                   1.0   \n",
       "2   {'model__solver': 'newton-cg', 'preprocessor__...                   1.0   \n",
       "42  {'model__solver': 'saga', 'preprocessor__num__...                   1.0   \n",
       "32  {'model__solver': 'sag', 'preprocessor__num__n...                   1.0   \n",
       "19  {'model__solver': 'lbfgs', 'preprocessor__num_...                   1.0   \n",
       "29  {'model__solver': 'liblinear', 'preprocessor__...                   1.0   \n",
       "17  {'model__solver': 'lbfgs', 'preprocessor__num_...                   1.0   \n",
       "27  {'model__solver': 'liblinear', 'preprocessor__...                   1.0   \n",
       "7   {'model__solver': 'newton-cg', 'preprocessor__...                   1.0   \n",
       "\n",
       "    split1_test_accuracy  ...  std_test_recall  rank_test_recall  \\\n",
       "12                  1.00  ...         0.006349                 1   \n",
       "22                  1.00  ...         0.006349                 1   \n",
       "2                   1.00  ...         0.006349                 1   \n",
       "42                  1.00  ...         0.006349                 1   \n",
       "32                  1.00  ...         0.006349                 1   \n",
       "19                  1.00  ...         0.012121                11   \n",
       "29                  1.00  ...         0.012121                11   \n",
       "17                  0.98  ...         0.006349                 1   \n",
       "27                  0.98  ...         0.006349                 1   \n",
       "7                   0.98  ...         0.006349                 1   \n",
       "\n",
       "    split0_test_f1  split1_test_f1  split2_test_f1  split3_test_f1  \\\n",
       "12             1.0        1.000000        1.000000        0.982861   \n",
       "22             1.0        1.000000        1.000000        0.982861   \n",
       "2              1.0        1.000000        1.000000        0.982861   \n",
       "42             1.0        1.000000        1.000000        0.982861   \n",
       "32             1.0        1.000000        1.000000        0.982861   \n",
       "19             1.0        1.000000        0.976375        1.000000   \n",
       "29             1.0        1.000000        0.976375        1.000000   \n",
       "17             1.0        0.975997        1.000000        1.000000   \n",
       "27             1.0        0.975997        1.000000        1.000000   \n",
       "7              1.0        0.975997        1.000000        1.000000   \n",
       "\n",
       "    split4_test_f1  mean_test_f1  std_test_f1  rank_test_f1  \n",
       "12             1.0      0.996572     0.006856             1  \n",
       "22             1.0      0.996572     0.006856             1  \n",
       "2              1.0      0.996572     0.006856             1  \n",
       "42             1.0      0.996572     0.006856             1  \n",
       "32             1.0      0.996572     0.006856             1  \n",
       "19             1.0      0.995275     0.009450             6  \n",
       "29             1.0      0.995275     0.009450             6  \n",
       "17             1.0      0.995199     0.009601             8  \n",
       "27             1.0      0.995199     0.009601             8  \n",
       "7              1.0      0.995199     0.009601             8  \n",
       "\n",
       "[10 rows x 40 columns]"
      ]
     },
     "execution_count": 29,
     "metadata": {},
     "output_type": "execute_result"
    }
   ],
   "source": [
    "pd.DataFrame(grid.cv_results_).sort_values(by='rank_test_f1', ascending=True).head(10)"
   ]
  },
  {
   "cell_type": "markdown",
   "id": "34da2372",
   "metadata": {},
   "source": [
    "# Base vs Best pipeline"
   ]
  },
  {
   "cell_type": "code",
   "execution_count": 52,
   "id": "6cba4922",
   "metadata": {},
   "outputs": [],
   "source": [
    "categorical_transformer_base = Pipeline(steps=[\n",
    "    ('one' , OneHotEncoder())\n",
    "])"
   ]
  },
  {
   "cell_type": "code",
   "execution_count": 53,
   "id": "6b9e868d",
   "metadata": {},
   "outputs": [],
   "source": [
    "numerical_transformer_base = Pipeline(steps=[\n",
    "    ('scale', StandardScaler())\n",
    "])"
   ]
  },
  {
   "cell_type": "code",
   "execution_count": 54,
   "id": "f2cce19f",
   "metadata": {},
   "outputs": [],
   "source": [
    "preprocessor_base = ColumnTransformer(transformers=[\n",
    "    ('num', numerical_transformer_base, numerical_features),\n",
    "    ('cat', categorical_transformer_base, categorical_features)\n",
    "])"
   ]
  },
  {
   "cell_type": "code",
   "execution_count": 55,
   "id": "dfcec241",
   "metadata": {},
   "outputs": [],
   "source": [
    "pipeline_base = Pipeline(steps=[\n",
    "    ('preprocessor', preprocessor_base),\n",
    "    ('model', LogisticRegression())\n",
    "])"
   ]
  },
  {
   "cell_type": "code",
   "execution_count": 56,
   "id": "cbb67561",
   "metadata": {},
   "outputs": [
    {
     "data": {
      "text/html": [
       "<style>#sk-1990ecb6-8f49-482f-8c09-9fa192e53681 {color: black;background-color: white;}#sk-1990ecb6-8f49-482f-8c09-9fa192e53681 pre{padding: 0;}#sk-1990ecb6-8f49-482f-8c09-9fa192e53681 div.sk-toggleable {background-color: white;}#sk-1990ecb6-8f49-482f-8c09-9fa192e53681 label.sk-toggleable__label {cursor: pointer;display: block;width: 100%;margin-bottom: 0;padding: 0.3em;box-sizing: border-box;text-align: center;}#sk-1990ecb6-8f49-482f-8c09-9fa192e53681 label.sk-toggleable__label-arrow:before {content: \"▸\";float: left;margin-right: 0.25em;color: #696969;}#sk-1990ecb6-8f49-482f-8c09-9fa192e53681 label.sk-toggleable__label-arrow:hover:before {color: black;}#sk-1990ecb6-8f49-482f-8c09-9fa192e53681 div.sk-estimator:hover label.sk-toggleable__label-arrow:before {color: black;}#sk-1990ecb6-8f49-482f-8c09-9fa192e53681 div.sk-toggleable__content {max-height: 0;max-width: 0;overflow: hidden;text-align: left;background-color: #f0f8ff;}#sk-1990ecb6-8f49-482f-8c09-9fa192e53681 div.sk-toggleable__content pre {margin: 0.2em;color: black;border-radius: 0.25em;background-color: #f0f8ff;}#sk-1990ecb6-8f49-482f-8c09-9fa192e53681 input.sk-toggleable__control:checked~div.sk-toggleable__content {max-height: 200px;max-width: 100%;overflow: auto;}#sk-1990ecb6-8f49-482f-8c09-9fa192e53681 input.sk-toggleable__control:checked~label.sk-toggleable__label-arrow:before {content: \"▾\";}#sk-1990ecb6-8f49-482f-8c09-9fa192e53681 div.sk-estimator input.sk-toggleable__control:checked~label.sk-toggleable__label {background-color: #d4ebff;}#sk-1990ecb6-8f49-482f-8c09-9fa192e53681 div.sk-label input.sk-toggleable__control:checked~label.sk-toggleable__label {background-color: #d4ebff;}#sk-1990ecb6-8f49-482f-8c09-9fa192e53681 input.sk-hidden--visually {border: 0;clip: rect(1px 1px 1px 1px);clip: rect(1px, 1px, 1px, 1px);height: 1px;margin: -1px;overflow: hidden;padding: 0;position: absolute;width: 1px;}#sk-1990ecb6-8f49-482f-8c09-9fa192e53681 div.sk-estimator {font-family: monospace;background-color: #f0f8ff;border: 1px dotted black;border-radius: 0.25em;box-sizing: border-box;margin-bottom: 0.5em;}#sk-1990ecb6-8f49-482f-8c09-9fa192e53681 div.sk-estimator:hover {background-color: #d4ebff;}#sk-1990ecb6-8f49-482f-8c09-9fa192e53681 div.sk-parallel-item::after {content: \"\";width: 100%;border-bottom: 1px solid gray;flex-grow: 1;}#sk-1990ecb6-8f49-482f-8c09-9fa192e53681 div.sk-label:hover label.sk-toggleable__label {background-color: #d4ebff;}#sk-1990ecb6-8f49-482f-8c09-9fa192e53681 div.sk-serial::before {content: \"\";position: absolute;border-left: 1px solid gray;box-sizing: border-box;top: 2em;bottom: 0;left: 50%;}#sk-1990ecb6-8f49-482f-8c09-9fa192e53681 div.sk-serial {display: flex;flex-direction: column;align-items: center;background-color: white;padding-right: 0.2em;padding-left: 0.2em;}#sk-1990ecb6-8f49-482f-8c09-9fa192e53681 div.sk-item {z-index: 1;}#sk-1990ecb6-8f49-482f-8c09-9fa192e53681 div.sk-parallel {display: flex;align-items: stretch;justify-content: center;background-color: white;}#sk-1990ecb6-8f49-482f-8c09-9fa192e53681 div.sk-parallel::before {content: \"\";position: absolute;border-left: 1px solid gray;box-sizing: border-box;top: 2em;bottom: 0;left: 50%;}#sk-1990ecb6-8f49-482f-8c09-9fa192e53681 div.sk-parallel-item {display: flex;flex-direction: column;position: relative;background-color: white;}#sk-1990ecb6-8f49-482f-8c09-9fa192e53681 div.sk-parallel-item:first-child::after {align-self: flex-end;width: 50%;}#sk-1990ecb6-8f49-482f-8c09-9fa192e53681 div.sk-parallel-item:last-child::after {align-self: flex-start;width: 50%;}#sk-1990ecb6-8f49-482f-8c09-9fa192e53681 div.sk-parallel-item:only-child::after {width: 0;}#sk-1990ecb6-8f49-482f-8c09-9fa192e53681 div.sk-dashed-wrapped {border: 1px dashed gray;margin: 0 0.4em 0.5em 0.4em;box-sizing: border-box;padding-bottom: 0.4em;background-color: white;position: relative;}#sk-1990ecb6-8f49-482f-8c09-9fa192e53681 div.sk-label label {font-family: monospace;font-weight: bold;background-color: white;display: inline-block;line-height: 1.2em;}#sk-1990ecb6-8f49-482f-8c09-9fa192e53681 div.sk-label-container {position: relative;z-index: 2;text-align: center;}#sk-1990ecb6-8f49-482f-8c09-9fa192e53681 div.sk-container {/* jupyter's `normalize.less` sets `[hidden] { display: none; }` but bootstrap.min.css set `[hidden] { display: none !important; }` so we also need the `!important` here to be able to override the default hidden behavior on the sphinx rendered scikit-learn.org. See: https://github.com/scikit-learn/scikit-learn/issues/21755 */display: inline-block !important;position: relative;}#sk-1990ecb6-8f49-482f-8c09-9fa192e53681 div.sk-text-repr-fallback {display: none;}</style><div id=\"sk-1990ecb6-8f49-482f-8c09-9fa192e53681\" class=\"sk-top-container\"><div class=\"sk-text-repr-fallback\"><pre>Pipeline(steps=[(&#x27;preprocessor&#x27;,\n",
       "                 ColumnTransformer(transformers=[(&#x27;num&#x27;,\n",
       "                                                  Pipeline(steps=[(&#x27;scale&#x27;,\n",
       "                                                                   StandardScaler())]),\n",
       "                                                  [&#x27;culmen_length_mm&#x27;,\n",
       "                                                   &#x27;culmen_depth_mm&#x27;,\n",
       "                                                   &#x27;flipper_length_mm&#x27;,\n",
       "                                                   &#x27;body_mass_g&#x27;]),\n",
       "                                                 (&#x27;cat&#x27;,\n",
       "                                                  Pipeline(steps=[(&#x27;one&#x27;,\n",
       "                                                                   OneHotEncoder())]),\n",
       "                                                  [&#x27;island&#x27;, &#x27;sex&#x27;])])),\n",
       "                (&#x27;model&#x27;, LogisticRegression())])</pre><b>Please rerun this cell to show the HTML repr or trust the notebook.</b></div><div class=\"sk-container\" hidden><div class=\"sk-item sk-dashed-wrapped\"><div class=\"sk-label-container\"><div class=\"sk-label sk-toggleable\"><input class=\"sk-toggleable__control sk-hidden--visually\" id=\"e1f03584-22fb-44cf-ac2d-b3064b2ad9a8\" type=\"checkbox\" ><label for=\"e1f03584-22fb-44cf-ac2d-b3064b2ad9a8\" class=\"sk-toggleable__label sk-toggleable__label-arrow\">Pipeline</label><div class=\"sk-toggleable__content\"><pre>Pipeline(steps=[(&#x27;preprocessor&#x27;,\n",
       "                 ColumnTransformer(transformers=[(&#x27;num&#x27;,\n",
       "                                                  Pipeline(steps=[(&#x27;scale&#x27;,\n",
       "                                                                   StandardScaler())]),\n",
       "                                                  [&#x27;culmen_length_mm&#x27;,\n",
       "                                                   &#x27;culmen_depth_mm&#x27;,\n",
       "                                                   &#x27;flipper_length_mm&#x27;,\n",
       "                                                   &#x27;body_mass_g&#x27;]),\n",
       "                                                 (&#x27;cat&#x27;,\n",
       "                                                  Pipeline(steps=[(&#x27;one&#x27;,\n",
       "                                                                   OneHotEncoder())]),\n",
       "                                                  [&#x27;island&#x27;, &#x27;sex&#x27;])])),\n",
       "                (&#x27;model&#x27;, LogisticRegression())])</pre></div></div></div><div class=\"sk-serial\"><div class=\"sk-item sk-dashed-wrapped\"><div class=\"sk-label-container\"><div class=\"sk-label sk-toggleable\"><input class=\"sk-toggleable__control sk-hidden--visually\" id=\"542f2739-ab9f-4024-95b9-745f42414f5d\" type=\"checkbox\" ><label for=\"542f2739-ab9f-4024-95b9-745f42414f5d\" class=\"sk-toggleable__label sk-toggleable__label-arrow\">preprocessor: ColumnTransformer</label><div class=\"sk-toggleable__content\"><pre>ColumnTransformer(transformers=[(&#x27;num&#x27;,\n",
       "                                 Pipeline(steps=[(&#x27;scale&#x27;, StandardScaler())]),\n",
       "                                 [&#x27;culmen_length_mm&#x27;, &#x27;culmen_depth_mm&#x27;,\n",
       "                                  &#x27;flipper_length_mm&#x27;, &#x27;body_mass_g&#x27;]),\n",
       "                                (&#x27;cat&#x27;,\n",
       "                                 Pipeline(steps=[(&#x27;one&#x27;, OneHotEncoder())]),\n",
       "                                 [&#x27;island&#x27;, &#x27;sex&#x27;])])</pre></div></div></div><div class=\"sk-parallel\"><div class=\"sk-parallel-item\"><div class=\"sk-item\"><div class=\"sk-label-container\"><div class=\"sk-label sk-toggleable\"><input class=\"sk-toggleable__control sk-hidden--visually\" id=\"72631918-ef6a-4b3a-98a0-540d899a799b\" type=\"checkbox\" ><label for=\"72631918-ef6a-4b3a-98a0-540d899a799b\" class=\"sk-toggleable__label sk-toggleable__label-arrow\">num</label><div class=\"sk-toggleable__content\"><pre>[&#x27;culmen_length_mm&#x27;, &#x27;culmen_depth_mm&#x27;, &#x27;flipper_length_mm&#x27;, &#x27;body_mass_g&#x27;]</pre></div></div></div><div class=\"sk-serial\"><div class=\"sk-item\"><div class=\"sk-serial\"><div class=\"sk-item\"><div class=\"sk-estimator sk-toggleable\"><input class=\"sk-toggleable__control sk-hidden--visually\" id=\"15fa4b45-4679-45be-8a0a-89615bd59293\" type=\"checkbox\" ><label for=\"15fa4b45-4679-45be-8a0a-89615bd59293\" class=\"sk-toggleable__label sk-toggleable__label-arrow\">StandardScaler</label><div class=\"sk-toggleable__content\"><pre>StandardScaler()</pre></div></div></div></div></div></div></div></div><div class=\"sk-parallel-item\"><div class=\"sk-item\"><div class=\"sk-label-container\"><div class=\"sk-label sk-toggleable\"><input class=\"sk-toggleable__control sk-hidden--visually\" id=\"0277767b-24d5-44d4-919d-70a95b9b79c2\" type=\"checkbox\" ><label for=\"0277767b-24d5-44d4-919d-70a95b9b79c2\" class=\"sk-toggleable__label sk-toggleable__label-arrow\">cat</label><div class=\"sk-toggleable__content\"><pre>[&#x27;island&#x27;, &#x27;sex&#x27;]</pre></div></div></div><div class=\"sk-serial\"><div class=\"sk-item\"><div class=\"sk-serial\"><div class=\"sk-item\"><div class=\"sk-estimator sk-toggleable\"><input class=\"sk-toggleable__control sk-hidden--visually\" id=\"24a51b55-24a5-4089-aebe-ba30f44bb82d\" type=\"checkbox\" ><label for=\"24a51b55-24a5-4089-aebe-ba30f44bb82d\" class=\"sk-toggleable__label sk-toggleable__label-arrow\">OneHotEncoder</label><div class=\"sk-toggleable__content\"><pre>OneHotEncoder()</pre></div></div></div></div></div></div></div></div></div></div><div class=\"sk-item\"><div class=\"sk-estimator sk-toggleable\"><input class=\"sk-toggleable__control sk-hidden--visually\" id=\"cdf0c065-9c9d-4609-9594-fec2a37fd3ca\" type=\"checkbox\" ><label for=\"cdf0c065-9c9d-4609-9594-fec2a37fd3ca\" class=\"sk-toggleable__label sk-toggleable__label-arrow\">LogisticRegression</label><div class=\"sk-toggleable__content\"><pre>LogisticRegression()</pre></div></div></div></div></div></div></div>"
      ],
      "text/plain": [
       "Pipeline(steps=[('preprocessor',\n",
       "                 ColumnTransformer(transformers=[('num',\n",
       "                                                  Pipeline(steps=[('scale',\n",
       "                                                                   StandardScaler())]),\n",
       "                                                  ['culmen_length_mm',\n",
       "                                                   'culmen_depth_mm',\n",
       "                                                   'flipper_length_mm',\n",
       "                                                   'body_mass_g']),\n",
       "                                                 ('cat',\n",
       "                                                  Pipeline(steps=[('one',\n",
       "                                                                   OneHotEncoder())]),\n",
       "                                                  ['island', 'sex'])])),\n",
       "                ('model', LogisticRegression())])"
      ]
     },
     "execution_count": 56,
     "metadata": {},
     "output_type": "execute_result"
    }
   ],
   "source": [
    "pipeline_base.fit(X_train, y_train)"
   ]
  },
  {
   "cell_type": "code",
   "execution_count": 61,
   "id": "858e0ff5",
   "metadata": {},
   "outputs": [],
   "source": [
    "categorical_transformer_best = Pipeline(steps=[\n",
    "    ('one' , OneHotEncoder())\n",
    "])"
   ]
  },
  {
   "cell_type": "code",
   "execution_count": 62,
   "id": "be528d13",
   "metadata": {},
   "outputs": [],
   "source": [
    "numerical_transformer_best = Pipeline(steps=[\n",
    "    ('scale', MinMaxScaler()),\n",
    "    ('normalize', Normalizer())\n",
    "])"
   ]
  },
  {
   "cell_type": "code",
   "execution_count": 63,
   "id": "9334a6cb",
   "metadata": {},
   "outputs": [],
   "source": [
    "preprocessor_best= ColumnTransformer(transformers=[\n",
    "    ('num', numerical_transformer_best, numerical_features),\n",
    "    ('cat', categorical_transformer_best, categorical_features)\n",
    "])"
   ]
  },
  {
   "cell_type": "code",
   "execution_count": 64,
   "id": "b38b5055",
   "metadata": {},
   "outputs": [],
   "source": [
    "pipeline_best = Pipeline(steps=[\n",
    "    ('preprocessor', preprocessor_best),\n",
    "    ('model', LogisticRegression(solver='newton-cg'))\n",
    "])"
   ]
  },
  {
   "cell_type": "code",
   "execution_count": 65,
   "id": "169b8608",
   "metadata": {},
   "outputs": [
    {
     "data": {
      "text/html": [
       "<style>#sk-cfa71598-f47f-4b14-ba98-e82ab9ef3d7b {color: black;background-color: white;}#sk-cfa71598-f47f-4b14-ba98-e82ab9ef3d7b pre{padding: 0;}#sk-cfa71598-f47f-4b14-ba98-e82ab9ef3d7b div.sk-toggleable {background-color: white;}#sk-cfa71598-f47f-4b14-ba98-e82ab9ef3d7b label.sk-toggleable__label {cursor: pointer;display: block;width: 100%;margin-bottom: 0;padding: 0.3em;box-sizing: border-box;text-align: center;}#sk-cfa71598-f47f-4b14-ba98-e82ab9ef3d7b label.sk-toggleable__label-arrow:before {content: \"▸\";float: left;margin-right: 0.25em;color: #696969;}#sk-cfa71598-f47f-4b14-ba98-e82ab9ef3d7b label.sk-toggleable__label-arrow:hover:before {color: black;}#sk-cfa71598-f47f-4b14-ba98-e82ab9ef3d7b div.sk-estimator:hover label.sk-toggleable__label-arrow:before {color: black;}#sk-cfa71598-f47f-4b14-ba98-e82ab9ef3d7b div.sk-toggleable__content {max-height: 0;max-width: 0;overflow: hidden;text-align: left;background-color: #f0f8ff;}#sk-cfa71598-f47f-4b14-ba98-e82ab9ef3d7b div.sk-toggleable__content pre {margin: 0.2em;color: black;border-radius: 0.25em;background-color: #f0f8ff;}#sk-cfa71598-f47f-4b14-ba98-e82ab9ef3d7b input.sk-toggleable__control:checked~div.sk-toggleable__content {max-height: 200px;max-width: 100%;overflow: auto;}#sk-cfa71598-f47f-4b14-ba98-e82ab9ef3d7b input.sk-toggleable__control:checked~label.sk-toggleable__label-arrow:before {content: \"▾\";}#sk-cfa71598-f47f-4b14-ba98-e82ab9ef3d7b div.sk-estimator input.sk-toggleable__control:checked~label.sk-toggleable__label {background-color: #d4ebff;}#sk-cfa71598-f47f-4b14-ba98-e82ab9ef3d7b div.sk-label input.sk-toggleable__control:checked~label.sk-toggleable__label {background-color: #d4ebff;}#sk-cfa71598-f47f-4b14-ba98-e82ab9ef3d7b input.sk-hidden--visually {border: 0;clip: rect(1px 1px 1px 1px);clip: rect(1px, 1px, 1px, 1px);height: 1px;margin: -1px;overflow: hidden;padding: 0;position: absolute;width: 1px;}#sk-cfa71598-f47f-4b14-ba98-e82ab9ef3d7b div.sk-estimator {font-family: monospace;background-color: #f0f8ff;border: 1px dotted black;border-radius: 0.25em;box-sizing: border-box;margin-bottom: 0.5em;}#sk-cfa71598-f47f-4b14-ba98-e82ab9ef3d7b div.sk-estimator:hover {background-color: #d4ebff;}#sk-cfa71598-f47f-4b14-ba98-e82ab9ef3d7b div.sk-parallel-item::after {content: \"\";width: 100%;border-bottom: 1px solid gray;flex-grow: 1;}#sk-cfa71598-f47f-4b14-ba98-e82ab9ef3d7b div.sk-label:hover label.sk-toggleable__label {background-color: #d4ebff;}#sk-cfa71598-f47f-4b14-ba98-e82ab9ef3d7b div.sk-serial::before {content: \"\";position: absolute;border-left: 1px solid gray;box-sizing: border-box;top: 2em;bottom: 0;left: 50%;}#sk-cfa71598-f47f-4b14-ba98-e82ab9ef3d7b div.sk-serial {display: flex;flex-direction: column;align-items: center;background-color: white;padding-right: 0.2em;padding-left: 0.2em;}#sk-cfa71598-f47f-4b14-ba98-e82ab9ef3d7b div.sk-item {z-index: 1;}#sk-cfa71598-f47f-4b14-ba98-e82ab9ef3d7b div.sk-parallel {display: flex;align-items: stretch;justify-content: center;background-color: white;}#sk-cfa71598-f47f-4b14-ba98-e82ab9ef3d7b div.sk-parallel::before {content: \"\";position: absolute;border-left: 1px solid gray;box-sizing: border-box;top: 2em;bottom: 0;left: 50%;}#sk-cfa71598-f47f-4b14-ba98-e82ab9ef3d7b div.sk-parallel-item {display: flex;flex-direction: column;position: relative;background-color: white;}#sk-cfa71598-f47f-4b14-ba98-e82ab9ef3d7b div.sk-parallel-item:first-child::after {align-self: flex-end;width: 50%;}#sk-cfa71598-f47f-4b14-ba98-e82ab9ef3d7b div.sk-parallel-item:last-child::after {align-self: flex-start;width: 50%;}#sk-cfa71598-f47f-4b14-ba98-e82ab9ef3d7b div.sk-parallel-item:only-child::after {width: 0;}#sk-cfa71598-f47f-4b14-ba98-e82ab9ef3d7b div.sk-dashed-wrapped {border: 1px dashed gray;margin: 0 0.4em 0.5em 0.4em;box-sizing: border-box;padding-bottom: 0.4em;background-color: white;position: relative;}#sk-cfa71598-f47f-4b14-ba98-e82ab9ef3d7b div.sk-label label {font-family: monospace;font-weight: bold;background-color: white;display: inline-block;line-height: 1.2em;}#sk-cfa71598-f47f-4b14-ba98-e82ab9ef3d7b div.sk-label-container {position: relative;z-index: 2;text-align: center;}#sk-cfa71598-f47f-4b14-ba98-e82ab9ef3d7b div.sk-container {/* jupyter's `normalize.less` sets `[hidden] { display: none; }` but bootstrap.min.css set `[hidden] { display: none !important; }` so we also need the `!important` here to be able to override the default hidden behavior on the sphinx rendered scikit-learn.org. See: https://github.com/scikit-learn/scikit-learn/issues/21755 */display: inline-block !important;position: relative;}#sk-cfa71598-f47f-4b14-ba98-e82ab9ef3d7b div.sk-text-repr-fallback {display: none;}</style><div id=\"sk-cfa71598-f47f-4b14-ba98-e82ab9ef3d7b\" class=\"sk-top-container\"><div class=\"sk-text-repr-fallback\"><pre>Pipeline(steps=[(&#x27;preprocessor&#x27;,\n",
       "                 ColumnTransformer(transformers=[(&#x27;num&#x27;,\n",
       "                                                  Pipeline(steps=[(&#x27;scale&#x27;,\n",
       "                                                                   MinMaxScaler()),\n",
       "                                                                  (&#x27;normalize&#x27;,\n",
       "                                                                   Normalizer())]),\n",
       "                                                  [&#x27;culmen_length_mm&#x27;,\n",
       "                                                   &#x27;culmen_depth_mm&#x27;,\n",
       "                                                   &#x27;flipper_length_mm&#x27;,\n",
       "                                                   &#x27;body_mass_g&#x27;]),\n",
       "                                                 (&#x27;cat&#x27;,\n",
       "                                                  Pipeline(steps=[(&#x27;one&#x27;,\n",
       "                                                                   OneHotEncoder())]),\n",
       "                                                  [&#x27;island&#x27;, &#x27;sex&#x27;])])),\n",
       "                (&#x27;model&#x27;, LogisticRegression(solver=&#x27;newton-cg&#x27;))])</pre><b>Please rerun this cell to show the HTML repr or trust the notebook.</b></div><div class=\"sk-container\" hidden><div class=\"sk-item sk-dashed-wrapped\"><div class=\"sk-label-container\"><div class=\"sk-label sk-toggleable\"><input class=\"sk-toggleable__control sk-hidden--visually\" id=\"fa0a2aaf-3523-4256-9309-d06f18609d21\" type=\"checkbox\" ><label for=\"fa0a2aaf-3523-4256-9309-d06f18609d21\" class=\"sk-toggleable__label sk-toggleable__label-arrow\">Pipeline</label><div class=\"sk-toggleable__content\"><pre>Pipeline(steps=[(&#x27;preprocessor&#x27;,\n",
       "                 ColumnTransformer(transformers=[(&#x27;num&#x27;,\n",
       "                                                  Pipeline(steps=[(&#x27;scale&#x27;,\n",
       "                                                                   MinMaxScaler()),\n",
       "                                                                  (&#x27;normalize&#x27;,\n",
       "                                                                   Normalizer())]),\n",
       "                                                  [&#x27;culmen_length_mm&#x27;,\n",
       "                                                   &#x27;culmen_depth_mm&#x27;,\n",
       "                                                   &#x27;flipper_length_mm&#x27;,\n",
       "                                                   &#x27;body_mass_g&#x27;]),\n",
       "                                                 (&#x27;cat&#x27;,\n",
       "                                                  Pipeline(steps=[(&#x27;one&#x27;,\n",
       "                                                                   OneHotEncoder())]),\n",
       "                                                  [&#x27;island&#x27;, &#x27;sex&#x27;])])),\n",
       "                (&#x27;model&#x27;, LogisticRegression(solver=&#x27;newton-cg&#x27;))])</pre></div></div></div><div class=\"sk-serial\"><div class=\"sk-item sk-dashed-wrapped\"><div class=\"sk-label-container\"><div class=\"sk-label sk-toggleable\"><input class=\"sk-toggleable__control sk-hidden--visually\" id=\"9a09f4dc-26f7-47b2-871e-d780fd17f352\" type=\"checkbox\" ><label for=\"9a09f4dc-26f7-47b2-871e-d780fd17f352\" class=\"sk-toggleable__label sk-toggleable__label-arrow\">preprocessor: ColumnTransformer</label><div class=\"sk-toggleable__content\"><pre>ColumnTransformer(transformers=[(&#x27;num&#x27;,\n",
       "                                 Pipeline(steps=[(&#x27;scale&#x27;, MinMaxScaler()),\n",
       "                                                 (&#x27;normalize&#x27;, Normalizer())]),\n",
       "                                 [&#x27;culmen_length_mm&#x27;, &#x27;culmen_depth_mm&#x27;,\n",
       "                                  &#x27;flipper_length_mm&#x27;, &#x27;body_mass_g&#x27;]),\n",
       "                                (&#x27;cat&#x27;,\n",
       "                                 Pipeline(steps=[(&#x27;one&#x27;, OneHotEncoder())]),\n",
       "                                 [&#x27;island&#x27;, &#x27;sex&#x27;])])</pre></div></div></div><div class=\"sk-parallel\"><div class=\"sk-parallel-item\"><div class=\"sk-item\"><div class=\"sk-label-container\"><div class=\"sk-label sk-toggleable\"><input class=\"sk-toggleable__control sk-hidden--visually\" id=\"5b062b33-2125-449d-ba2e-be0e2ed28760\" type=\"checkbox\" ><label for=\"5b062b33-2125-449d-ba2e-be0e2ed28760\" class=\"sk-toggleable__label sk-toggleable__label-arrow\">num</label><div class=\"sk-toggleable__content\"><pre>[&#x27;culmen_length_mm&#x27;, &#x27;culmen_depth_mm&#x27;, &#x27;flipper_length_mm&#x27;, &#x27;body_mass_g&#x27;]</pre></div></div></div><div class=\"sk-serial\"><div class=\"sk-item\"><div class=\"sk-serial\"><div class=\"sk-item\"><div class=\"sk-estimator sk-toggleable\"><input class=\"sk-toggleable__control sk-hidden--visually\" id=\"a39a8c19-bb63-4fc5-9148-cb1f885d72fe\" type=\"checkbox\" ><label for=\"a39a8c19-bb63-4fc5-9148-cb1f885d72fe\" class=\"sk-toggleable__label sk-toggleable__label-arrow\">MinMaxScaler</label><div class=\"sk-toggleable__content\"><pre>MinMaxScaler()</pre></div></div></div><div class=\"sk-item\"><div class=\"sk-estimator sk-toggleable\"><input class=\"sk-toggleable__control sk-hidden--visually\" id=\"889b186a-cb52-4ab6-91f6-2a2a1125e6af\" type=\"checkbox\" ><label for=\"889b186a-cb52-4ab6-91f6-2a2a1125e6af\" class=\"sk-toggleable__label sk-toggleable__label-arrow\">Normalizer</label><div class=\"sk-toggleable__content\"><pre>Normalizer()</pre></div></div></div></div></div></div></div></div><div class=\"sk-parallel-item\"><div class=\"sk-item\"><div class=\"sk-label-container\"><div class=\"sk-label sk-toggleable\"><input class=\"sk-toggleable__control sk-hidden--visually\" id=\"b6616589-7e26-4913-a631-f85bfb1ff41c\" type=\"checkbox\" ><label for=\"b6616589-7e26-4913-a631-f85bfb1ff41c\" class=\"sk-toggleable__label sk-toggleable__label-arrow\">cat</label><div class=\"sk-toggleable__content\"><pre>[&#x27;island&#x27;, &#x27;sex&#x27;]</pre></div></div></div><div class=\"sk-serial\"><div class=\"sk-item\"><div class=\"sk-serial\"><div class=\"sk-item\"><div class=\"sk-estimator sk-toggleable\"><input class=\"sk-toggleable__control sk-hidden--visually\" id=\"7c35f738-46d6-49c2-89f7-a4ab215bd578\" type=\"checkbox\" ><label for=\"7c35f738-46d6-49c2-89f7-a4ab215bd578\" class=\"sk-toggleable__label sk-toggleable__label-arrow\">OneHotEncoder</label><div class=\"sk-toggleable__content\"><pre>OneHotEncoder()</pre></div></div></div></div></div></div></div></div></div></div><div class=\"sk-item\"><div class=\"sk-estimator sk-toggleable\"><input class=\"sk-toggleable__control sk-hidden--visually\" id=\"c218eb59-30ec-4d28-89e4-1d9a807d04c5\" type=\"checkbox\" ><label for=\"c218eb59-30ec-4d28-89e4-1d9a807d04c5\" class=\"sk-toggleable__label sk-toggleable__label-arrow\">LogisticRegression</label><div class=\"sk-toggleable__content\"><pre>LogisticRegression(solver=&#x27;newton-cg&#x27;)</pre></div></div></div></div></div></div></div>"
      ],
      "text/plain": [
       "Pipeline(steps=[('preprocessor',\n",
       "                 ColumnTransformer(transformers=[('num',\n",
       "                                                  Pipeline(steps=[('scale',\n",
       "                                                                   MinMaxScaler()),\n",
       "                                                                  ('normalize',\n",
       "                                                                   Normalizer())]),\n",
       "                                                  ['culmen_length_mm',\n",
       "                                                   'culmen_depth_mm',\n",
       "                                                   'flipper_length_mm',\n",
       "                                                   'body_mass_g']),\n",
       "                                                 ('cat',\n",
       "                                                  Pipeline(steps=[('one',\n",
       "                                                                   OneHotEncoder())]),\n",
       "                                                  ['island', 'sex'])])),\n",
       "                ('model', LogisticRegression(solver='newton-cg'))])"
      ]
     },
     "execution_count": 65,
     "metadata": {},
     "output_type": "execute_result"
    }
   ],
   "source": [
    "pipeline_best.fit(X_train, y_train)"
   ]
  },
  {
   "cell_type": "code",
   "execution_count": 66,
   "id": "17268e77",
   "metadata": {},
   "outputs": [],
   "source": [
    "pipeline_base_train = accuracy_performance(pipeline_base, X_train, y_train)\n",
    "pipeline_base_test = accuracy_performance(pipeline_base, X_test, y_test)"
   ]
  },
  {
   "cell_type": "code",
   "execution_count": 67,
   "id": "529f81ff",
   "metadata": {},
   "outputs": [],
   "source": [
    "pipeline_base_train.insert(1, 'data', 'train')\n",
    "pipeline_base_train['pipeline'] = 'base'\n",
    "pipeline_base_test.insert(1, 'data', 'test')\n",
    "pipeline_base_test['pipeline'] = 'base'\n",
    "results = pd.concat([pipeline_base_train, pipeline_base_test], ignore_index=True)"
   ]
  },
  {
   "cell_type": "code",
   "execution_count": 68,
   "id": "c1b4c420",
   "metadata": {},
   "outputs": [],
   "source": [
    "pipeline_best_train = accuracy_performance(pipeline_best, X_train, y_train)\n",
    "pipeline_best_test = accuracy_performance(pipeline_best, X_test, y_test)"
   ]
  },
  {
   "cell_type": "code",
   "execution_count": 69,
   "id": "6e4d22fd",
   "metadata": {},
   "outputs": [],
   "source": [
    "pipeline_best_train.insert(1, 'data', 'train')\n",
    "pipeline_best_train['pipeline'] = 'best'\n",
    "pipeline_best_test.insert(1, 'data', 'test')\n",
    "pipeline_best_test['pipeline'] = 'best'\n",
    "results = pd.concat([results,pipeline_best_train, pipeline_best_test], ignore_index=True)"
   ]
  },
  {
   "cell_type": "markdown",
   "id": "55bf4199",
   "metadata": {},
   "source": [
    "### Base pipeline vs Best pipeline - Accuracy"
   ]
  },
  {
   "cell_type": "code",
   "execution_count": 70,
   "id": "fd88ac90",
   "metadata": {},
   "outputs": [
    {
     "data": {
      "text/html": [
       "<div>\n",
       "<style scoped>\n",
       "    .dataframe tbody tr th:only-of-type {\n",
       "        vertical-align: middle;\n",
       "    }\n",
       "\n",
       "    .dataframe tbody tr th {\n",
       "        vertical-align: top;\n",
       "    }\n",
       "\n",
       "    .dataframe thead th {\n",
       "        text-align: right;\n",
       "    }\n",
       "</style>\n",
       "<table border=\"1\" class=\"dataframe\">\n",
       "  <thead>\n",
       "    <tr style=\"text-align: right;\">\n",
       "      <th></th>\n",
       "      <th>pipeline</th>\n",
       "      <th>data</th>\n",
       "      <th>accuracy</th>\n",
       "    </tr>\n",
       "  </thead>\n",
       "  <tbody>\n",
       "    <tr>\n",
       "      <th>0</th>\n",
       "      <td>base</td>\n",
       "      <td>train</td>\n",
       "      <td>1.000</td>\n",
       "    </tr>\n",
       "    <tr>\n",
       "      <th>1</th>\n",
       "      <td>base</td>\n",
       "      <td>test</td>\n",
       "      <td>1.000</td>\n",
       "    </tr>\n",
       "    <tr>\n",
       "      <th>2</th>\n",
       "      <td>best</td>\n",
       "      <td>train</td>\n",
       "      <td>1.000</td>\n",
       "    </tr>\n",
       "    <tr>\n",
       "      <th>3</th>\n",
       "      <td>best</td>\n",
       "      <td>test</td>\n",
       "      <td>0.988</td>\n",
       "    </tr>\n",
       "  </tbody>\n",
       "</table>\n",
       "</div>"
      ],
      "text/plain": [
       "  pipeline   data  accuracy\n",
       "0     base  train     1.000\n",
       "1     base   test     1.000\n",
       "2     best  train     1.000\n",
       "3     best   test     0.988"
      ]
     },
     "execution_count": 70,
     "metadata": {},
     "output_type": "execute_result"
    }
   ],
   "source": [
    "results"
   ]
  },
  {
   "cell_type": "code",
   "execution_count": 71,
   "id": "b9c3d264",
   "metadata": {},
   "outputs": [],
   "source": [
    "df_results = results[(results['data'] != 'train')]\n",
    "df_results = df_results.sort_values(by='accuracy', ascending=False)\n",
    "df_results = df_results.reset_index(drop=True)\n",
    "df_results.index = df_results.index + 1"
   ]
  },
  {
   "cell_type": "code",
   "execution_count": 72,
   "id": "1d5caecf",
   "metadata": {},
   "outputs": [
    {
     "data": {
      "image/png": "[encoded data removed]",
      "text/plain": [
       "<Figure size 600x400 with 1 Axes>"
      ]
     },
     "metadata": {},
     "output_type": "display_data"
    },
    {
     "data": {
      "text/html": [
       "<div>\n",
       "<style scoped>\n",
       "    .dataframe tbody tr th:only-of-type {\n",
       "        vertical-align: middle;\n",
       "    }\n",
       "\n",
       "    .dataframe tbody tr th {\n",
       "        vertical-align: top;\n",
       "    }\n",
       "\n",
       "    .dataframe thead th {\n",
       "        text-align: right;\n",
       "    }\n",
       "</style>\n",
       "<table border=\"1\" class=\"dataframe\">\n",
       "  <thead>\n",
       "    <tr style=\"text-align: right;\">\n",
       "      <th></th>\n",
       "      <th>pipeline</th>\n",
       "      <th>data</th>\n",
       "      <th>accuracy</th>\n",
       "    </tr>\n",
       "  </thead>\n",
       "  <tbody>\n",
       "    <tr>\n",
       "      <th>1</th>\n",
       "      <td>base</td>\n",
       "      <td>test</td>\n",
       "      <td>1.000</td>\n",
       "    </tr>\n",
       "    <tr>\n",
       "      <th>2</th>\n",
       "      <td>best</td>\n",
       "      <td>test</td>\n",
       "      <td>0.988</td>\n",
       "    </tr>\n",
       "  </tbody>\n",
       "</table>\n",
       "</div>"
      ],
      "text/plain": [
       "  pipeline  data  accuracy\n",
       "1     base  test     1.000\n",
       "2     best  test     0.988"
      ]
     },
     "execution_count": 72,
     "metadata": {},
     "output_type": "execute_result"
    }
   ],
   "source": [
    "classification_analysis(df_results)"
   ]
  },
  {
   "cell_type": "markdown",
   "id": "c5314d96",
   "metadata": {},
   "source": [
    "### Base pipeline vs Best pipeline - Classificator performance for train dataset"
   ]
  },
  {
   "cell_type": "code",
   "execution_count": 73,
   "id": "aa264049",
   "metadata": {},
   "outputs": [
    {
     "name": "stdout",
     "output_type": "stream",
     "text": [
      "              precision    recall  f1-score   support\n",
      "\n",
      "      Adelie       1.00      1.00      1.00       103\n",
      "   Chinstrap       1.00      1.00      1.00        54\n",
      "      Gentoo       1.00      1.00      1.00        92\n",
      "\n",
      "    accuracy                           1.00       249\n",
      "   macro avg       1.00      1.00      1.00       249\n",
      "weighted avg       1.00      1.00      1.00       249\n",
      "\n"
     ]
    }
   ],
   "source": [
    "classificator_performance(pipeline_base, X_train, y_train, target_classes.values())"
   ]
  },
  {
   "cell_type": "code",
   "execution_count": 74,
   "id": "b951b1c5",
   "metadata": {},
   "outputs": [
    {
     "name": "stdout",
     "output_type": "stream",
     "text": [
      "              precision    recall  f1-score   support\n",
      "\n",
      "      Adelie       1.00      1.00      1.00       103\n",
      "   Chinstrap       1.00      1.00      1.00        54\n",
      "      Gentoo       1.00      1.00      1.00        92\n",
      "\n",
      "    accuracy                           1.00       249\n",
      "   macro avg       1.00      1.00      1.00       249\n",
      "weighted avg       1.00      1.00      1.00       249\n",
      "\n"
     ]
    }
   ],
   "source": [
    "classificator_performance(pipeline_best, X_train, y_train, target_classes.values())"
   ]
  },
  {
   "cell_type": "markdown",
   "id": "e6aaec48",
   "metadata": {},
   "source": [
    "### Base pipeline vs Best pipeline - Classificator performance for test dataset"
   ]
  },
  {
   "cell_type": "code",
   "execution_count": 75,
   "id": "e927b11e",
   "metadata": {},
   "outputs": [
    {
     "name": "stdout",
     "output_type": "stream",
     "text": [
      "              precision    recall  f1-score   support\n",
      "\n",
      "      Adelie       1.00      1.00      1.00        43\n",
      "   Chinstrap       1.00      1.00      1.00        14\n",
      "      Gentoo       1.00      1.00      1.00        27\n",
      "\n",
      "    accuracy                           1.00        84\n",
      "   macro avg       1.00      1.00      1.00        84\n",
      "weighted avg       1.00      1.00      1.00        84\n",
      "\n"
     ]
    }
   ],
   "source": [
    "classificator_performance(pipeline_base, X_test, y_test, target_classes.values())"
   ]
  },
  {
   "cell_type": "code",
   "execution_count": 76,
   "id": "dacd3701",
   "metadata": {},
   "outputs": [
    {
     "name": "stdout",
     "output_type": "stream",
     "text": [
      "              precision    recall  f1-score   support\n",
      "\n",
      "      Adelie       1.00      0.98      0.99        43\n",
      "   Chinstrap       0.93      1.00      0.97        14\n",
      "      Gentoo       1.00      1.00      1.00        27\n",
      "\n",
      "    accuracy                           0.99        84\n",
      "   macro avg       0.98      0.99      0.98        84\n",
      "weighted avg       0.99      0.99      0.99        84\n",
      "\n"
     ]
    }
   ],
   "source": [
    "classificator_performance(pipeline_best, X_test, y_test, target_classes.values())"
   ]
  },
  {
   "cell_type": "markdown",
   "id": "7f93040f",
   "metadata": {},
   "source": [
    "### Base pipeline vs Best pipeline - Confusion Matrix, ROC and Recall curve"
   ]
  },
  {
   "cell_type": "code",
   "execution_count": 77,
   "id": "fe8787b6",
   "metadata": {},
   "outputs": [
    {
     "data": {
      "image/png": "[encoded data removed]",
      "text/plain": [
       "<Figure size 2000x500 with 4 Axes>"
      ]
     },
     "metadata": {},
     "output_type": "display_data"
    }
   ],
   "source": [
    "classificator_analysis(model=pipeline_base, X_test=X_test, y_test=y_test, labels_name=target_classes)"
   ]
  },
  {
   "cell_type": "code",
   "execution_count": 78,
   "id": "087c5965",
   "metadata": {},
   "outputs": [
    {
     "data": {
      "image/png": "[encoded data removed]",
      "text/plain": [
       "<Figure size 2000x500 with 4 Axes>"
      ]
     },
     "metadata": {},
     "output_type": "display_data"
    }
   ],
   "source": [
    "classificator_analysis(model=pipeline_best, X_test=X_test, y_test=y_test, labels_name=target_classes)"
   ]
  },
  {
   "cell_type": "code",
   "execution_count": null,
   "id": "4cb32cad",
   "metadata": {},
   "outputs": [],
   "source": []
  }
 ],
 "metadata": {
  "kernelspec": {
   "display_name": "Python 3 (ipykernel)",
   "language": "python",
   "name": "python3"
  },
  "language_info": {
   "codemirror_mode": {
    "name": "ipython",
    "version": 3
   },
   "file_extension": ".py",
   "mimetype": "text/x-python",
   "name": "python",
   "nbconvert_exporter": "python",
   "pygments_lexer": "ipython3",
   "version": "3.9.16"
  }
 },
 "nbformat": 4,
 "nbformat_minor": 5
}
