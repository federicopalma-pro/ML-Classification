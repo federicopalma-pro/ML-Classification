{
 "cells": [
  {
   "cell_type": "markdown",
   "id": "6eb65739",
   "metadata": {},
   "source": [
    "# Import libraries"
   ]
  },
  {
   "cell_type": "code",
   "execution_count": 1,
   "id": "ed302d14",
   "metadata": {},
   "outputs": [],
   "source": [
    "import pandas as pd\n",
    "import numpy as np\n",
    "import matplotlib.pyplot as plt\n",
    "import seaborn as sns\n",
    "import pickle\n",
    "from joblib import dump"
   ]
  },
  {
   "cell_type": "code",
   "execution_count": 2,
   "id": "4736f008",
   "metadata": {},
   "outputs": [],
   "source": [
    "from sklearn.model_selection import train_test_split\n",
    "from sklearn.preprocessing import Normalizer, OneHotEncoder, RobustScaler\n",
    "from sklearn.compose import ColumnTransformer\n",
    "from  sklearn.pipeline  import  Pipeline\n",
    "from  sklearn  import  set_config\n",
    "set_config(display='diagram')"
   ]
  },
  {
   "cell_type": "code",
   "execution_count": 3,
   "id": "1a615dd5",
   "metadata": {},
   "outputs": [],
   "source": [
    "from sklearn.ensemble import AdaBoostClassifier\n",
    "from sklearn.linear_model import LogisticRegression\n",
    "from sklearn.ensemble import RandomForestClassifier"
   ]
  },
  {
   "cell_type": "markdown",
   "id": "389497c0",
   "metadata": {},
   "source": [
    "# Custom functions"
   ]
  },
  {
   "cell_type": "code",
   "execution_count": 4,
   "id": "eba22afb",
   "metadata": {},
   "outputs": [],
   "source": [
    "def dataset_parameters(df,target):\n",
    "    df_features = df.drop([target], axis=1)\n",
    "    data_type_numerical = ['int64', 'float64']\n",
    "    data_type_object = ['object', 'bool', 'category']\n",
    "    data_type_date = ['datetime64']\n",
    "    categorical_features  = list(filter(lambda x: df_features[x].dtype in data_type_object, df_features.columns))\n",
    "    numerical_features = list(filter(lambda x: df_features[x].dtype in data_type_numerical, df_features.columns))\n",
    "    date_features = list(filter(lambda x: df_features[x].dtype in data_type_date, df_features.columns))\n",
    "    all_features  = numerical_features  + categorical_features + date_features \n",
    "    return categorical_features, numerical_features, date_features, all_features,target "
   ]
  },
  {
   "cell_type": "markdown",
   "id": "2cc89fdb",
   "metadata": {},
   "source": [
    "# Loading and set data"
   ]
  },
  {
   "cell_type": "code",
   "execution_count": 5,
   "id": "b5adac42",
   "metadata": {},
   "outputs": [],
   "source": [
    "with open('penguins_df.pkl', 'rb') as f:\n",
    "    df = pickle.load(f)"
   ]
  },
  {
   "cell_type": "code",
   "execution_count": 6,
   "id": "260891e1",
   "metadata": {},
   "outputs": [
    {
     "data": {
      "text/html": [
       "<div>\n",
       "<style scoped>\n",
       "    .dataframe tbody tr th:only-of-type {\n",
       "        vertical-align: middle;\n",
       "    }\n",
       "\n",
       "    .dataframe tbody tr th {\n",
       "        vertical-align: top;\n",
       "    }\n",
       "\n",
       "    .dataframe thead th {\n",
       "        text-align: right;\n",
       "    }\n",
       "</style>\n",
       "<table border=\"1\" class=\"dataframe\">\n",
       "  <thead>\n",
       "    <tr style=\"text-align: right;\">\n",
       "      <th></th>\n",
       "      <th>island</th>\n",
       "      <th>culmen_length_mm</th>\n",
       "      <th>culmen_depth_mm</th>\n",
       "      <th>flipper_length_mm</th>\n",
       "      <th>body_mass_g</th>\n",
       "      <th>sex</th>\n",
       "      <th>species</th>\n",
       "    </tr>\n",
       "  </thead>\n",
       "  <tbody>\n",
       "    <tr>\n",
       "      <th>0</th>\n",
       "      <td>Torgersen</td>\n",
       "      <td>39.1</td>\n",
       "      <td>18.7</td>\n",
       "      <td>181.0</td>\n",
       "      <td>3750.0</td>\n",
       "      <td>MALE</td>\n",
       "      <td>Adelie</td>\n",
       "    </tr>\n",
       "    <tr>\n",
       "      <th>1</th>\n",
       "      <td>Torgersen</td>\n",
       "      <td>39.5</td>\n",
       "      <td>17.4</td>\n",
       "      <td>186.0</td>\n",
       "      <td>3800.0</td>\n",
       "      <td>FEMALE</td>\n",
       "      <td>Adelie</td>\n",
       "    </tr>\n",
       "    <tr>\n",
       "      <th>2</th>\n",
       "      <td>Torgersen</td>\n",
       "      <td>40.3</td>\n",
       "      <td>18.0</td>\n",
       "      <td>195.0</td>\n",
       "      <td>3250.0</td>\n",
       "      <td>FEMALE</td>\n",
       "      <td>Adelie</td>\n",
       "    </tr>\n",
       "    <tr>\n",
       "      <th>3</th>\n",
       "      <td>Torgersen</td>\n",
       "      <td>36.7</td>\n",
       "      <td>19.3</td>\n",
       "      <td>193.0</td>\n",
       "      <td>3450.0</td>\n",
       "      <td>FEMALE</td>\n",
       "      <td>Adelie</td>\n",
       "    </tr>\n",
       "    <tr>\n",
       "      <th>4</th>\n",
       "      <td>Torgersen</td>\n",
       "      <td>39.3</td>\n",
       "      <td>20.6</td>\n",
       "      <td>190.0</td>\n",
       "      <td>3650.0</td>\n",
       "      <td>MALE</td>\n",
       "      <td>Adelie</td>\n",
       "    </tr>\n",
       "    <tr>\n",
       "      <th>...</th>\n",
       "      <td>...</td>\n",
       "      <td>...</td>\n",
       "      <td>...</td>\n",
       "      <td>...</td>\n",
       "      <td>...</td>\n",
       "      <td>...</td>\n",
       "      <td>...</td>\n",
       "    </tr>\n",
       "    <tr>\n",
       "      <th>328</th>\n",
       "      <td>Biscoe</td>\n",
       "      <td>47.2</td>\n",
       "      <td>13.7</td>\n",
       "      <td>214.0</td>\n",
       "      <td>4925.0</td>\n",
       "      <td>FEMALE</td>\n",
       "      <td>Gentoo</td>\n",
       "    </tr>\n",
       "    <tr>\n",
       "      <th>329</th>\n",
       "      <td>Biscoe</td>\n",
       "      <td>46.8</td>\n",
       "      <td>14.3</td>\n",
       "      <td>215.0</td>\n",
       "      <td>4850.0</td>\n",
       "      <td>FEMALE</td>\n",
       "      <td>Gentoo</td>\n",
       "    </tr>\n",
       "    <tr>\n",
       "      <th>330</th>\n",
       "      <td>Biscoe</td>\n",
       "      <td>50.4</td>\n",
       "      <td>15.7</td>\n",
       "      <td>222.0</td>\n",
       "      <td>5750.0</td>\n",
       "      <td>MALE</td>\n",
       "      <td>Gentoo</td>\n",
       "    </tr>\n",
       "    <tr>\n",
       "      <th>331</th>\n",
       "      <td>Biscoe</td>\n",
       "      <td>45.2</td>\n",
       "      <td>14.8</td>\n",
       "      <td>212.0</td>\n",
       "      <td>5200.0</td>\n",
       "      <td>FEMALE</td>\n",
       "      <td>Gentoo</td>\n",
       "    </tr>\n",
       "    <tr>\n",
       "      <th>332</th>\n",
       "      <td>Biscoe</td>\n",
       "      <td>49.9</td>\n",
       "      <td>16.1</td>\n",
       "      <td>213.0</td>\n",
       "      <td>5400.0</td>\n",
       "      <td>MALE</td>\n",
       "      <td>Gentoo</td>\n",
       "    </tr>\n",
       "  </tbody>\n",
       "</table>\n",
       "<p>333 rows × 7 columns</p>\n",
       "</div>"
      ],
      "text/plain": [
       "        island  culmen_length_mm  culmen_depth_mm  flipper_length_mm  \\\n",
       "0    Torgersen              39.1             18.7              181.0   \n",
       "1    Torgersen              39.5             17.4              186.0   \n",
       "2    Torgersen              40.3             18.0              195.0   \n",
       "3    Torgersen              36.7             19.3              193.0   \n",
       "4    Torgersen              39.3             20.6              190.0   \n",
       "..         ...               ...              ...                ...   \n",
       "328     Biscoe              47.2             13.7              214.0   \n",
       "329     Biscoe              46.8             14.3              215.0   \n",
       "330     Biscoe              50.4             15.7              222.0   \n",
       "331     Biscoe              45.2             14.8              212.0   \n",
       "332     Biscoe              49.9             16.1              213.0   \n",
       "\n",
       "     body_mass_g     sex species  \n",
       "0         3750.0    MALE  Adelie  \n",
       "1         3800.0  FEMALE  Adelie  \n",
       "2         3250.0  FEMALE  Adelie  \n",
       "3         3450.0  FEMALE  Adelie  \n",
       "4         3650.0    MALE  Adelie  \n",
       "..           ...     ...     ...  \n",
       "328       4925.0  FEMALE  Gentoo  \n",
       "329       4850.0  FEMALE  Gentoo  \n",
       "330       5750.0    MALE  Gentoo  \n",
       "331       5200.0  FEMALE  Gentoo  \n",
       "332       5400.0    MALE  Gentoo  \n",
       "\n",
       "[333 rows x 7 columns]"
      ]
     },
     "execution_count": 6,
     "metadata": {},
     "output_type": "execute_result"
    }
   ],
   "source": [
    "df"
   ]
  },
  {
   "cell_type": "code",
   "execution_count": 7,
   "id": "6b518b86",
   "metadata": {},
   "outputs": [],
   "source": [
    "categorical_features, numerical_features, date_features, all_features, target = dataset_parameters(df,'species')"
   ]
  },
  {
   "cell_type": "code",
   "execution_count": 8,
   "id": "3b07559a",
   "metadata": {},
   "outputs": [],
   "source": [
    "X = df[all_features]"
   ]
  },
  {
   "cell_type": "code",
   "execution_count": 9,
   "id": "62ca3588",
   "metadata": {},
   "outputs": [],
   "source": [
    "y = df[target]"
   ]
  },
  {
   "cell_type": "code",
   "execution_count": 10,
   "id": "4264cdc9",
   "metadata": {},
   "outputs": [],
   "source": [
    "X_train, X_test, y_train, y_test = train_test_split(X, y, test_size=0.25, random_state=13) "
   ]
  },
  {
   "cell_type": "markdown",
   "id": "99105f76",
   "metadata": {},
   "source": [
    "# Setup pipeline, train and test with best hyperparameters"
   ]
  },
  {
   "cell_type": "code",
   "execution_count": 11,
   "id": "751cc436",
   "metadata": {},
   "outputs": [],
   "source": [
    "categorical_transformer = Pipeline(steps=[\n",
    "    ('one' , OneHotEncoder())\n",
    "])"
   ]
  },
  {
   "cell_type": "code",
   "execution_count": 12,
   "id": "d80c89b2",
   "metadata": {},
   "outputs": [],
   "source": [
    "numerical_transformer = Pipeline(steps=[\n",
    "    ('scale', RobustScaler()),\n",
    "])"
   ]
  },
  {
   "cell_type": "code",
   "execution_count": 13,
   "id": "7e47042c",
   "metadata": {},
   "outputs": [],
   "source": [
    "preprocessor = ColumnTransformer(transformers=[\n",
    "    ('num', numerical_transformer, numerical_features),\n",
    "    ('cat', categorical_transformer, categorical_features)\n",
    "])"
   ]
  },
  {
   "cell_type": "code",
   "execution_count": 14,
   "id": "79cd2cef",
   "metadata": {},
   "outputs": [],
   "source": [
    "pipeline = Pipeline(steps=[\n",
    "    ('preprocessor', preprocessor),\n",
    "    ('model', AdaBoostClassifier(base_estimator=LogisticRegression()))\n",
    "])"
   ]
  },
  {
   "cell_type": "code",
   "execution_count": 15,
   "id": "9f1bed14",
   "metadata": {},
   "outputs": [
    {
     "data": {
      "text/html": [
       "<style>#sk-4cb60b64-3966-4eed-9032-0b4ea2a533f5 {color: black;background-color: white;}#sk-4cb60b64-3966-4eed-9032-0b4ea2a533f5 pre{padding: 0;}#sk-4cb60b64-3966-4eed-9032-0b4ea2a533f5 div.sk-toggleable {background-color: white;}#sk-4cb60b64-3966-4eed-9032-0b4ea2a533f5 label.sk-toggleable__label {cursor: pointer;display: block;width: 100%;margin-bottom: 0;padding: 0.3em;box-sizing: border-box;text-align: center;}#sk-4cb60b64-3966-4eed-9032-0b4ea2a533f5 label.sk-toggleable__label-arrow:before {content: \"▸\";float: left;margin-right: 0.25em;color: #696969;}#sk-4cb60b64-3966-4eed-9032-0b4ea2a533f5 label.sk-toggleable__label-arrow:hover:before {color: black;}#sk-4cb60b64-3966-4eed-9032-0b4ea2a533f5 div.sk-estimator:hover label.sk-toggleable__label-arrow:before {color: black;}#sk-4cb60b64-3966-4eed-9032-0b4ea2a533f5 div.sk-toggleable__content {max-height: 0;max-width: 0;overflow: hidden;text-align: left;background-color: #f0f8ff;}#sk-4cb60b64-3966-4eed-9032-0b4ea2a533f5 div.sk-toggleable__content pre {margin: 0.2em;color: black;border-radius: 0.25em;background-color: #f0f8ff;}#sk-4cb60b64-3966-4eed-9032-0b4ea2a533f5 input.sk-toggleable__control:checked~div.sk-toggleable__content {max-height: 200px;max-width: 100%;overflow: auto;}#sk-4cb60b64-3966-4eed-9032-0b4ea2a533f5 input.sk-toggleable__control:checked~label.sk-toggleable__label-arrow:before {content: \"▾\";}#sk-4cb60b64-3966-4eed-9032-0b4ea2a533f5 div.sk-estimator input.sk-toggleable__control:checked~label.sk-toggleable__label {background-color: #d4ebff;}#sk-4cb60b64-3966-4eed-9032-0b4ea2a533f5 div.sk-label input.sk-toggleable__control:checked~label.sk-toggleable__label {background-color: #d4ebff;}#sk-4cb60b64-3966-4eed-9032-0b4ea2a533f5 input.sk-hidden--visually {border: 0;clip: rect(1px 1px 1px 1px);clip: rect(1px, 1px, 1px, 1px);height: 1px;margin: -1px;overflow: hidden;padding: 0;position: absolute;width: 1px;}#sk-4cb60b64-3966-4eed-9032-0b4ea2a533f5 div.sk-estimator {font-family: monospace;background-color: #f0f8ff;border: 1px dotted black;border-radius: 0.25em;box-sizing: border-box;margin-bottom: 0.5em;}#sk-4cb60b64-3966-4eed-9032-0b4ea2a533f5 div.sk-estimator:hover {background-color: #d4ebff;}#sk-4cb60b64-3966-4eed-9032-0b4ea2a533f5 div.sk-parallel-item::after {content: \"\";width: 100%;border-bottom: 1px solid gray;flex-grow: 1;}#sk-4cb60b64-3966-4eed-9032-0b4ea2a533f5 div.sk-label:hover label.sk-toggleable__label {background-color: #d4ebff;}#sk-4cb60b64-3966-4eed-9032-0b4ea2a533f5 div.sk-serial::before {content: \"\";position: absolute;border-left: 1px solid gray;box-sizing: border-box;top: 2em;bottom: 0;left: 50%;}#sk-4cb60b64-3966-4eed-9032-0b4ea2a533f5 div.sk-serial {display: flex;flex-direction: column;align-items: center;background-color: white;padding-right: 0.2em;padding-left: 0.2em;}#sk-4cb60b64-3966-4eed-9032-0b4ea2a533f5 div.sk-item {z-index: 1;}#sk-4cb60b64-3966-4eed-9032-0b4ea2a533f5 div.sk-parallel {display: flex;align-items: stretch;justify-content: center;background-color: white;}#sk-4cb60b64-3966-4eed-9032-0b4ea2a533f5 div.sk-parallel::before {content: \"\";position: absolute;border-left: 1px solid gray;box-sizing: border-box;top: 2em;bottom: 0;left: 50%;}#sk-4cb60b64-3966-4eed-9032-0b4ea2a533f5 div.sk-parallel-item {display: flex;flex-direction: column;position: relative;background-color: white;}#sk-4cb60b64-3966-4eed-9032-0b4ea2a533f5 div.sk-parallel-item:first-child::after {align-self: flex-end;width: 50%;}#sk-4cb60b64-3966-4eed-9032-0b4ea2a533f5 div.sk-parallel-item:last-child::after {align-self: flex-start;width: 50%;}#sk-4cb60b64-3966-4eed-9032-0b4ea2a533f5 div.sk-parallel-item:only-child::after {width: 0;}#sk-4cb60b64-3966-4eed-9032-0b4ea2a533f5 div.sk-dashed-wrapped {border: 1px dashed gray;margin: 0 0.4em 0.5em 0.4em;box-sizing: border-box;padding-bottom: 0.4em;background-color: white;position: relative;}#sk-4cb60b64-3966-4eed-9032-0b4ea2a533f5 div.sk-label label {font-family: monospace;font-weight: bold;background-color: white;display: inline-block;line-height: 1.2em;}#sk-4cb60b64-3966-4eed-9032-0b4ea2a533f5 div.sk-label-container {position: relative;z-index: 2;text-align: center;}#sk-4cb60b64-3966-4eed-9032-0b4ea2a533f5 div.sk-container {/* jupyter's `normalize.less` sets `[hidden] { display: none; }` but bootstrap.min.css set `[hidden] { display: none !important; }` so we also need the `!important` here to be able to override the default hidden behavior on the sphinx rendered scikit-learn.org. See: https://github.com/scikit-learn/scikit-learn/issues/21755 */display: inline-block !important;position: relative;}#sk-4cb60b64-3966-4eed-9032-0b4ea2a533f5 div.sk-text-repr-fallback {display: none;}</style><div id=\"sk-4cb60b64-3966-4eed-9032-0b4ea2a533f5\" class=\"sk-top-container\"><div class=\"sk-text-repr-fallback\"><pre>Pipeline(steps=[(&#x27;preprocessor&#x27;,\n",
       "                 ColumnTransformer(transformers=[(&#x27;num&#x27;,\n",
       "                                                  Pipeline(steps=[(&#x27;scale&#x27;,\n",
       "                                                                   RobustScaler())]),\n",
       "                                                  [&#x27;culmen_length_mm&#x27;,\n",
       "                                                   &#x27;culmen_depth_mm&#x27;,\n",
       "                                                   &#x27;flipper_length_mm&#x27;,\n",
       "                                                   &#x27;body_mass_g&#x27;]),\n",
       "                                                 (&#x27;cat&#x27;,\n",
       "                                                  Pipeline(steps=[(&#x27;one&#x27;,\n",
       "                                                                   OneHotEncoder())]),\n",
       "                                                  [&#x27;island&#x27;, &#x27;sex&#x27;])])),\n",
       "                (&#x27;model&#x27;,\n",
       "                 AdaBoostClassifier(base_estimator=LogisticRegression()))])</pre><b>Please rerun this cell to show the HTML repr or trust the notebook.</b></div><div class=\"sk-container\" hidden><div class=\"sk-item sk-dashed-wrapped\"><div class=\"sk-label-container\"><div class=\"sk-label sk-toggleable\"><input class=\"sk-toggleable__control sk-hidden--visually\" id=\"a7ae20cc-6cfd-4ff4-a27d-55855ac42c20\" type=\"checkbox\" ><label for=\"a7ae20cc-6cfd-4ff4-a27d-55855ac42c20\" class=\"sk-toggleable__label sk-toggleable__label-arrow\">Pipeline</label><div class=\"sk-toggleable__content\"><pre>Pipeline(steps=[(&#x27;preprocessor&#x27;,\n",
       "                 ColumnTransformer(transformers=[(&#x27;num&#x27;,\n",
       "                                                  Pipeline(steps=[(&#x27;scale&#x27;,\n",
       "                                                                   RobustScaler())]),\n",
       "                                                  [&#x27;culmen_length_mm&#x27;,\n",
       "                                                   &#x27;culmen_depth_mm&#x27;,\n",
       "                                                   &#x27;flipper_length_mm&#x27;,\n",
       "                                                   &#x27;body_mass_g&#x27;]),\n",
       "                                                 (&#x27;cat&#x27;,\n",
       "                                                  Pipeline(steps=[(&#x27;one&#x27;,\n",
       "                                                                   OneHotEncoder())]),\n",
       "                                                  [&#x27;island&#x27;, &#x27;sex&#x27;])])),\n",
       "                (&#x27;model&#x27;,\n",
       "                 AdaBoostClassifier(base_estimator=LogisticRegression()))])</pre></div></div></div><div class=\"sk-serial\"><div class=\"sk-item sk-dashed-wrapped\"><div class=\"sk-label-container\"><div class=\"sk-label sk-toggleable\"><input class=\"sk-toggleable__control sk-hidden--visually\" id=\"7fac7602-afce-4a7c-9427-db49036ae45d\" type=\"checkbox\" ><label for=\"7fac7602-afce-4a7c-9427-db49036ae45d\" class=\"sk-toggleable__label sk-toggleable__label-arrow\">preprocessor: ColumnTransformer</label><div class=\"sk-toggleable__content\"><pre>ColumnTransformer(transformers=[(&#x27;num&#x27;,\n",
       "                                 Pipeline(steps=[(&#x27;scale&#x27;, RobustScaler())]),\n",
       "                                 [&#x27;culmen_length_mm&#x27;, &#x27;culmen_depth_mm&#x27;,\n",
       "                                  &#x27;flipper_length_mm&#x27;, &#x27;body_mass_g&#x27;]),\n",
       "                                (&#x27;cat&#x27;,\n",
       "                                 Pipeline(steps=[(&#x27;one&#x27;, OneHotEncoder())]),\n",
       "                                 [&#x27;island&#x27;, &#x27;sex&#x27;])])</pre></div></div></div><div class=\"sk-parallel\"><div class=\"sk-parallel-item\"><div class=\"sk-item\"><div class=\"sk-label-container\"><div class=\"sk-label sk-toggleable\"><input class=\"sk-toggleable__control sk-hidden--visually\" id=\"06186686-4431-4e6c-8c77-3a8c79fc429a\" type=\"checkbox\" ><label for=\"06186686-4431-4e6c-8c77-3a8c79fc429a\" class=\"sk-toggleable__label sk-toggleable__label-arrow\">num</label><div class=\"sk-toggleable__content\"><pre>[&#x27;culmen_length_mm&#x27;, &#x27;culmen_depth_mm&#x27;, &#x27;flipper_length_mm&#x27;, &#x27;body_mass_g&#x27;]</pre></div></div></div><div class=\"sk-serial\"><div class=\"sk-item\"><div class=\"sk-serial\"><div class=\"sk-item\"><div class=\"sk-estimator sk-toggleable\"><input class=\"sk-toggleable__control sk-hidden--visually\" id=\"f2400f43-46a7-4763-adcc-a03bf2cc13eb\" type=\"checkbox\" ><label for=\"f2400f43-46a7-4763-adcc-a03bf2cc13eb\" class=\"sk-toggleable__label sk-toggleable__label-arrow\">RobustScaler</label><div class=\"sk-toggleable__content\"><pre>RobustScaler()</pre></div></div></div></div></div></div></div></div><div class=\"sk-parallel-item\"><div class=\"sk-item\"><div class=\"sk-label-container\"><div class=\"sk-label sk-toggleable\"><input class=\"sk-toggleable__control sk-hidden--visually\" id=\"82533054-ac6a-4469-a03c-4e11ecc2cc83\" type=\"checkbox\" ><label for=\"82533054-ac6a-4469-a03c-4e11ecc2cc83\" class=\"sk-toggleable__label sk-toggleable__label-arrow\">cat</label><div class=\"sk-toggleable__content\"><pre>[&#x27;island&#x27;, &#x27;sex&#x27;]</pre></div></div></div><div class=\"sk-serial\"><div class=\"sk-item\"><div class=\"sk-serial\"><div class=\"sk-item\"><div class=\"sk-estimator sk-toggleable\"><input class=\"sk-toggleable__control sk-hidden--visually\" id=\"d016625b-f05c-4564-b69c-fd5b11093c48\" type=\"checkbox\" ><label for=\"d016625b-f05c-4564-b69c-fd5b11093c48\" class=\"sk-toggleable__label sk-toggleable__label-arrow\">OneHotEncoder</label><div class=\"sk-toggleable__content\"><pre>OneHotEncoder()</pre></div></div></div></div></div></div></div></div></div></div><div class=\"sk-item sk-dashed-wrapped\"><div class=\"sk-label-container\"><div class=\"sk-label sk-toggleable\"><input class=\"sk-toggleable__control sk-hidden--visually\" id=\"176a2570-356d-4a0c-98d7-8a96276aa081\" type=\"checkbox\" ><label for=\"176a2570-356d-4a0c-98d7-8a96276aa081\" class=\"sk-toggleable__label sk-toggleable__label-arrow\">model: AdaBoostClassifier</label><div class=\"sk-toggleable__content\"><pre>AdaBoostClassifier(base_estimator=LogisticRegression())</pre></div></div></div><div class=\"sk-parallel\"><div class=\"sk-parallel-item\"><div class=\"sk-item\"><div class=\"sk-serial\"><div class=\"sk-item\"><div class=\"sk-estimator sk-toggleable\"><input class=\"sk-toggleable__control sk-hidden--visually\" id=\"9bf7ce34-60b5-4280-979c-b20867a2ec70\" type=\"checkbox\" ><label for=\"9bf7ce34-60b5-4280-979c-b20867a2ec70\" class=\"sk-toggleable__label sk-toggleable__label-arrow\">LogisticRegression</label><div class=\"sk-toggleable__content\"><pre>LogisticRegression()</pre></div></div></div></div></div></div></div></div></div></div></div></div>"
      ],
      "text/plain": [
       "Pipeline(steps=[('preprocessor',\n",
       "                 ColumnTransformer(transformers=[('num',\n",
       "                                                  Pipeline(steps=[('scale',\n",
       "                                                                   RobustScaler())]),\n",
       "                                                  ['culmen_length_mm',\n",
       "                                                   'culmen_depth_mm',\n",
       "                                                   'flipper_length_mm',\n",
       "                                                   'body_mass_g']),\n",
       "                                                 ('cat',\n",
       "                                                  Pipeline(steps=[('one',\n",
       "                                                                   OneHotEncoder())]),\n",
       "                                                  ['island', 'sex'])])),\n",
       "                ('model',\n",
       "                 AdaBoostClassifier(base_estimator=LogisticRegression()))])"
      ]
     },
     "execution_count": 15,
     "metadata": {},
     "output_type": "execute_result"
    }
   ],
   "source": [
    "pipeline.fit(X_train,  y_train)"
   ]
  },
  {
   "cell_type": "code",
   "execution_count": 16,
   "id": "79ffa13e",
   "metadata": {},
   "outputs": [
    {
     "data": {
      "text/plain": [
       "1.0"
      ]
     },
     "execution_count": 16,
     "metadata": {},
     "output_type": "execute_result"
    }
   ],
   "source": [
    "pipeline.score(X_test,y_test)"
   ]
  },
  {
   "cell_type": "markdown",
   "id": "9306703d",
   "metadata": {},
   "source": [
    "# Save pipeline to disk"
   ]
  },
  {
   "cell_type": "code",
   "execution_count": 17,
   "id": "749a2fec",
   "metadata": {},
   "outputs": [
    {
     "data": {
      "text/plain": [
       "['pipeline.joblib']"
      ]
     },
     "execution_count": 17,
     "metadata": {},
     "output_type": "execute_result"
    }
   ],
   "source": [
    "dump(pipeline, 'pipeline.joblib')"
   ]
  },
  {
   "cell_type": "code",
   "execution_count": null,
   "id": "640e7333",
   "metadata": {},
   "outputs": [],
   "source": []
  },
  {
   "cell_type": "code",
   "execution_count": null,
   "id": "7691f41c",
   "metadata": {},
   "outputs": [],
   "source": []
  }
 ],
 "metadata": {
  "kernelspec": {
   "display_name": "Python 3 (ipykernel)",
   "language": "python",
   "name": "python3"
  },
  "language_info": {
   "codemirror_mode": {
    "name": "ipython",
    "version": 3
   },
   "file_extension": ".py",
   "mimetype": "text/x-python",
   "name": "python",
   "nbconvert_exporter": "python",
   "pygments_lexer": "ipython3",
   "version": "3.9.16"
  }
 },
 "nbformat": 4,
 "nbformat_minor": 5
}
